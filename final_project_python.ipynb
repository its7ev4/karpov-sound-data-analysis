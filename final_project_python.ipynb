{
 "cells": [
  {
   "cell_type": "markdown",
   "metadata": {},
   "source": [
    "### В проекте предстоит поработать аналитиком данных в компании «Карпов Саунд», которая занимается оптовой продажей аудиотехники и предлагает широкий ассортимент товаров от ведущих мировых брендов, включающий профессиональные аудиосистемы, домашние кинотеатры, портативные аудиоустройства и прочие аксессуары.\n",
    "\n",
    "«Карпов Саунд» сотрудничает с крупными розничными сетями и специализированными магазинами аудиотехники в России. Клиенты компании регулярно оставляют заявки на закупку товаров в CRM системе, менеджеры связываются с клиентами, обсуждают детали, после чего заказы либо подтверждаются менеджерами, либо по разным причинам отменяются. \n",
    "\n",
    "В «Карпов Саунд» трепетно относятся к хранению информации о своих товарах, клиентах и заказах, однако в самый неподходящий момент хранилище данных компании оказалось временно недоступно из-за плановых работ по его оптимизации. Поэтому в рамках этого проекта все данные будут представлены не в самом удобном для анализа виде — в формате резервной выгрузки, разложенной по разным папкам на сервере компании.\n",
    "\n",
    "Необходимо собрать данные из разрозненных источников, проанализировать их и сделать выводы, которые помогут руководству компании принять верные тактические решения."
   ]
  },
  {
   "cell_type": "markdown",
   "id": "a23a2736",
   "metadata": {},
   "source": [
    "## Шаг 1\n"
   ]
  },
  {
   "cell_type": "markdown",
   "metadata": {},
   "source": [
    "**В ходе работы над проектом встретятся следующие таблицы:**  \n",
    "\n",
    "1) orders (данные о заказах):  \n",
    "- order_id — номер заказа  \n",
    "- product_id — идентификатор товара  \n",
    "- quantity — количество этого товара в заказе\n",
    "\n",
    "2) order_status (данные о статусах заказов и клиентах):\n",
    "- order_id — номер заказа  \n",
    "- client_id — идентификатор клиента  \n",
    "- status — статус заказа\n",
    "\n",
    "3) products (данные о товарах):\n",
    "- id — идентификатор товара  \n",
    "- name — имя товара (сначала указан бренд, через запятую модель товара)  \n",
    "- price — цена единицы товара, в долларах"
   ]
  },
  {
   "cell_type": "markdown",
   "metadata": {},
   "source": [
    "Каждый заказ имеет статус или подтвержденного (`confirmed`), или отмененного (`canceled`). В одном заказе может быть несколько разных товаров. Если заказ был отменен, а потом создан такой же (тем же клиентом, с теми же товарами, у того же менеджера), в базе останется запись о двух заказах с разными номерами и статусами, поскольку система не позволяет создать заказ с тем же номером.\n",
    "\n",
    "Сначала нужно собрать и предобработать три типа датасетов: `orders.csv`, `order_status.csv`, `products.csv`."
   ]
  },
  {
   "cell_type": "markdown",
   "metadata": {},
   "source": [
    "На схеме показано, как связаны таблицы между собой:"
   ]
  },
  {
   "cell_type": "markdown",
   "metadata": {},
   "source": [
    "![](https://storage.yandexcloud.net/klms-public/production/learning-content/457/4167/37264/104636/497986/er_white.png)"
   ]
  },
  {
   "cell_type": "markdown",
   "metadata": {},
   "source": [
    "Данные находятся в папке `data`. Внутри папки `data` находятся 2 другие папки: `orders` и `products`.\n",
    "\n",
    "В папке `orders` папки с датами, в которые сделаны записи. В этих папках — папки с именами менеджеров по продажам. Эти папки содержат файлы `orders.csv` и `order_status.csv` (в каждой папке по одной паре файлов). Пример структуры: `data` -> `orders` -> `2024-03-01` -> `Алексей Саксофонов` -> `orders.csv` и `order_status.csv`.\n",
    "\n",
    "В папке `products` папки с категориями товаров. В этих папках файлы `products.csv` (в каждой папке по одному файлу). Пример структуры: `data` -> `products` -> `AV-процессор` -> `products.csv`."
   ]
  },
  {
   "cell_type": "markdown",
   "metadata": {},
   "source": [
    "Кроме того есть файл `usd_rate.txt` с курсом доллара США на каждый день анализируемого периода (данные в формате `дата,курс,валюта`). Он потребуется в середине проекта."
   ]
  },
  {
   "cell_type": "markdown",
   "metadata": {},
   "source": [
    "### Соберем датасет с заказами по папкам"
   ]
  },
  {
   "cell_type": "markdown",
   "metadata": {},
   "source": [
    "## Шаг 2"
   ]
  },
  {
   "cell_type": "markdown",
   "metadata": {},
   "source": [
    "**Первая задача — собрать данные со всех папок в три датафрейма:**  \n",
    "1. `df_orders` — на основе датасетов `orders.csv` + добавьте колонку `manager` с именами менеджеров и колонку `date` с датами. Отсортируйте датафрейм по возрастанию `order_id` и `product_id`.\n",
    "2. `df_order_status` — на основе датасетов `order_status.csv`. Отсортируйте датафрейм по возрастанию `order_id`. \n",
    "3. `df_products` — на основе датасетов `products.csv` + добавьте колонку `category` с категориями товаров. Отсортируйте датафрейм по возрастанию `id`.  \n",
    "\n",
    "**Соберите датафреймы и сохраните их в соответствующие csv файлы: `df_orders.csv`, `df_order_status.csv` и `df_products.csv`. Отправьте файлы на проверку в LMS.**"
   ]
  },
  {
   "cell_type": "code",
   "execution_count": 80,
   "id": "4895711e",
   "metadata": {},
   "outputs": [
    {
     "name": "stdout",
     "output_type": "stream",
     "text": [
      "['./data\\\\orders\\\\2024-03-01\\\\Алексей Саксофонов\\\\orders.csv', './data\\\\orders\\\\2024-03-01\\\\Алексей Саксофонов\\\\order_status.csv', './data\\\\orders\\\\2024-03-01\\\\Аркадий Октавин\\\\orders.csv', './data\\\\orders\\\\2024-03-01\\\\Аркадий Октавин\\\\order_status.csv', './data\\\\orders\\\\2024-03-01\\\\Виктор Тромбонов\\\\orders.csv']\n"
     ]
    }
   ],
   "source": [
    "# Ваш код здесь\n",
    "import os\n",
    "import pandas as pd\n",
    "\n",
    "way = \"./data\"\n",
    "file_paths = []\n",
    "\n",
    "for path, dirs, files in os.walk(way):\n",
    "    for file in files:\n",
    "        if file.endswith('.csv'):\n",
    "            file_path = os.path.join(path, file)\n",
    "            file_paths.append(file_path)\n",
    "\n",
    "print(file_paths[:5])"
   ]
  },
  {
   "cell_type": "code",
   "execution_count": 79,
   "id": "1e1577c0",
   "metadata": {},
   "outputs": [],
   "source": [
    "df_orders = pd.DataFrame()\n",
    "df_order_status = pd.DataFrame()\n",
    "df_products = pd.DataFrame()\n",
    "\n",
    "for path in file_paths:\n",
    "    data = pd.read_csv(path)\n",
    "    if path.endswith('orders.csv'):\n",
    "        parsed = path.split(os.sep)\n",
    "\n",
    "        name = parsed[-2]\n",
    "        date = parsed[-3]\n",
    "\n",
    "        data['manager'] = name\n",
    "        data['date'] = date\n",
    "        \n",
    "        df_orders = pd.concat([df_orders, data])\n",
    "    \n",
    "    elif path.endswith('products.csv'): \n",
    "        parsed = path.split(os.sep)\n",
    "        category = parsed[-2] \n",
    "\n",
    "        data['category'] = category\n",
    "        df_products = pd.concat([df_products, data])\n",
    "\n",
    "    elif path.endswith('order_status.csv'):\n",
    "        df_order_status = pd.concat([data, df_order_status])\n"
   ]
  },
  {
   "cell_type": "code",
   "execution_count": 3,
   "id": "6030e5d6",
   "metadata": {},
   "outputs": [
    {
     "name": "stdout",
     "output_type": "stream",
     "text": [
      "        order_id  product_id  quantity              manager        date\n",
      "0  DUEU-27693834         933         7  Алексей Саксофонов  2024-03-01\n",
      "1  DUEU-27693834        1645        36  Алексей Саксофонов  2024-03-01\n",
      "2  DUEU-27693834        1596        40  Алексей Саксофонов  2024-03-01\n",
      "3  DUEU-27693834         648        10  Алексей Саксофонов  2024-03-01\n",
      "4  DUEU-27693834        1413         6  Алексей Саксофонов  2024-03-01 \n",
      "\n",
      "df_orders.shape=(4603, 5)\n",
      "\n",
      "order_id      object\n",
      "product_id     int64\n",
      "quantity       int64\n",
      "manager       object\n",
      "date          object\n",
      "dtype: object\n"
     ]
    }
   ],
   "source": [
    "print(df_orders.head(), \"\\n\")\n",
    "print(f\"{df_orders.shape=}\\n\\n{df_orders.dtypes}\")"
   ]
  },
  {
   "cell_type": "code",
   "execution_count": 4,
   "id": "ac936f4a",
   "metadata": {},
   "outputs": [
    {
     "data": {
      "text/plain": [
       "order_id              object\n",
       "product_id             int64\n",
       "quantity               int64\n",
       "manager               object\n",
       "date          datetime64[ns]\n",
       "dtype: object"
      ]
     },
     "execution_count": 4,
     "metadata": {},
     "output_type": "execute_result"
    }
   ],
   "source": [
    "df_orders['date'] = pd.to_datetime(df_orders['date'])\n",
    "df_orders.dtypes"
   ]
  },
  {
   "cell_type": "code",
   "execution_count": 5,
   "id": "e102afd1",
   "metadata": {},
   "outputs": [
    {
     "name": "stdout",
     "output_type": "stream",
     "text": [
      "        order_id  client_id     status\n",
      "0  OYBY-86181208         11  confirmed\n",
      "0  RJPI-21712323         22  confirmed\n",
      "0  XRPC-48091227         52  confirmed\n",
      "0  UBQN-94821029         35  confirmed\n",
      "1  JHUM-48790671         70  confirmed \n",
      "\n",
      "df_order_status.shape=(346, 3)\n",
      "\n",
      "order_id     object\n",
      "client_id     int64\n",
      "status       object\n",
      "dtype: object\n"
     ]
    }
   ],
   "source": [
    "print(df_order_status.head(), \"\\n\")\n",
    "print(f\"{df_order_status.shape=}\\n\\n{df_order_status.dtypes}\")"
   ]
  },
  {
   "cell_type": "code",
   "execution_count": 6,
   "id": "0ea8d551",
   "metadata": {},
   "outputs": [
    {
     "name": "stdout",
     "output_type": "stream",
     "text": [
      "    id               name    price      category\n",
      "0   36     Anthem, AVM 70  2580.03  AV-процессор\n",
      "1   40       Arcam, AV860  3400.64  AV-процессор\n",
      "2   41       Arcam, AVR30  3600.85  AV-процессор\n",
      "3  205  Denon, AVC-X8500H  3600.95  AV-процессор\n",
      "4  206  Denon, AVC-X6700H  2225.50  AV-процессор \n",
      "\n",
      "df_products.shape=(1677, 4)\n",
      "\n",
      "id            int64\n",
      "name         object\n",
      "price       float64\n",
      "category     object\n",
      "dtype: object\n"
     ]
    }
   ],
   "source": [
    "print(df_products.head(), \"\\n\")\n",
    "print(f\"{df_products.shape=}\\n\\n{df_products.dtypes}\")"
   ]
  },
  {
   "cell_type": "code",
   "execution_count": 7,
   "id": "c835b57d",
   "metadata": {},
   "outputs": [],
   "source": [
    "df_orders.to_csv(\"df_orders.csv\", index=False, encoding=\"utf-8-sig\")\n",
    "df_order_status.to_csv(\"df_order_status.csv\", index=False, encoding=\"utf-8-sig\")\n",
    "df_products.to_csv(\"df_products.csv\", index=False, encoding=\"utf-8-sig\")\n"
   ]
  },
  {
   "cell_type": "markdown",
   "id": "b375415a",
   "metadata": {},
   "source": [
    "### Посмотрим на общую динамику заказов и определим дни, которые выбиваются из общей картины"
   ]
  },
  {
   "cell_type": "markdown",
   "id": "3d858e64",
   "metadata": {},
   "source": [
    "## Шаг 3"
   ]
  },
  {
   "cell_type": "markdown",
   "id": "bd5893ab",
   "metadata": {},
   "source": [
    "Посчитайте количество заказов в каждый день. **Определите день с наибольшим числом заказов.** Укажите этот день в том формате, в котором он представлен в данных (гггг-мм-дд)."
   ]
  },
  {
   "cell_type": "code",
   "execution_count": 8,
   "id": "ef436f2e",
   "metadata": {},
   "outputs": [
    {
     "data": {
      "text/html": [
       "<div>\n",
       "<style scoped>\n",
       "    .dataframe tbody tr th:only-of-type {\n",
       "        vertical-align: middle;\n",
       "    }\n",
       "\n",
       "    .dataframe tbody tr th {\n",
       "        vertical-align: top;\n",
       "    }\n",
       "\n",
       "    .dataframe thead th {\n",
       "        text-align: right;\n",
       "    }\n",
       "</style>\n",
       "<table border=\"1\" class=\"dataframe\">\n",
       "  <thead>\n",
       "    <tr style=\"text-align: right;\">\n",
       "      <th></th>\n",
       "      <th>order_id</th>\n",
       "      <th>product_id</th>\n",
       "      <th>quantity</th>\n",
       "      <th>manager</th>\n",
       "      <th>date</th>\n",
       "    </tr>\n",
       "  </thead>\n",
       "  <tbody>\n",
       "    <tr>\n",
       "      <th>0</th>\n",
       "      <td>DUEU-27693834</td>\n",
       "      <td>933</td>\n",
       "      <td>7</td>\n",
       "      <td>Алексей Саксофонов</td>\n",
       "      <td>2024-03-01</td>\n",
       "    </tr>\n",
       "    <tr>\n",
       "      <th>1</th>\n",
       "      <td>DUEU-27693834</td>\n",
       "      <td>1645</td>\n",
       "      <td>36</td>\n",
       "      <td>Алексей Саксофонов</td>\n",
       "      <td>2024-03-01</td>\n",
       "    </tr>\n",
       "    <tr>\n",
       "      <th>2</th>\n",
       "      <td>DUEU-27693834</td>\n",
       "      <td>1596</td>\n",
       "      <td>40</td>\n",
       "      <td>Алексей Саксофонов</td>\n",
       "      <td>2024-03-01</td>\n",
       "    </tr>\n",
       "    <tr>\n",
       "      <th>3</th>\n",
       "      <td>DUEU-27693834</td>\n",
       "      <td>648</td>\n",
       "      <td>10</td>\n",
       "      <td>Алексей Саксофонов</td>\n",
       "      <td>2024-03-01</td>\n",
       "    </tr>\n",
       "    <tr>\n",
       "      <th>4</th>\n",
       "      <td>DUEU-27693834</td>\n",
       "      <td>1413</td>\n",
       "      <td>6</td>\n",
       "      <td>Алексей Саксофонов</td>\n",
       "      <td>2024-03-01</td>\n",
       "    </tr>\n",
       "    <tr>\n",
       "      <th>...</th>\n",
       "      <td>...</td>\n",
       "      <td>...</td>\n",
       "      <td>...</td>\n",
       "      <td>...</td>\n",
       "      <td>...</td>\n",
       "    </tr>\n",
       "    <tr>\n",
       "      <th>5</th>\n",
       "      <td>OYBY-86181208</td>\n",
       "      <td>1575</td>\n",
       "      <td>3</td>\n",
       "      <td>Анастасия Дудкина</td>\n",
       "      <td>2024-03-31</td>\n",
       "    </tr>\n",
       "    <tr>\n",
       "      <th>6</th>\n",
       "      <td>OYBY-86181208</td>\n",
       "      <td>941</td>\n",
       "      <td>11</td>\n",
       "      <td>Анастасия Дудкина</td>\n",
       "      <td>2024-03-31</td>\n",
       "    </tr>\n",
       "    <tr>\n",
       "      <th>7</th>\n",
       "      <td>OYBY-86181208</td>\n",
       "      <td>1335</td>\n",
       "      <td>22</td>\n",
       "      <td>Анастасия Дудкина</td>\n",
       "      <td>2024-03-31</td>\n",
       "    </tr>\n",
       "    <tr>\n",
       "      <th>8</th>\n",
       "      <td>OYBY-86181208</td>\n",
       "      <td>296</td>\n",
       "      <td>22</td>\n",
       "      <td>Анастасия Дудкина</td>\n",
       "      <td>2024-03-31</td>\n",
       "    </tr>\n",
       "    <tr>\n",
       "      <th>9</th>\n",
       "      <td>OYBY-86181208</td>\n",
       "      <td>446</td>\n",
       "      <td>2</td>\n",
       "      <td>Анастасия Дудкина</td>\n",
       "      <td>2024-03-31</td>\n",
       "    </tr>\n",
       "  </tbody>\n",
       "</table>\n",
       "<p>4603 rows × 5 columns</p>\n",
       "</div>"
      ],
      "text/plain": [
       "         order_id  product_id  quantity              manager       date\n",
       "0   DUEU-27693834         933         7  Алексей Саксофонов 2024-03-01\n",
       "1   DUEU-27693834        1645        36  Алексей Саксофонов 2024-03-01\n",
       "2   DUEU-27693834        1596        40  Алексей Саксофонов 2024-03-01\n",
       "3   DUEU-27693834         648        10  Алексей Саксофонов 2024-03-01\n",
       "4   DUEU-27693834        1413         6  Алексей Саксофонов 2024-03-01\n",
       "..            ...         ...       ...                  ...        ...\n",
       "5   OYBY-86181208        1575         3    Анастасия Дудкина 2024-03-31\n",
       "6   OYBY-86181208         941        11    Анастасия Дудкина 2024-03-31\n",
       "7   OYBY-86181208        1335        22    Анастасия Дудкина 2024-03-31\n",
       "8   OYBY-86181208         296        22    Анастасия Дудкина 2024-03-31\n",
       "9   OYBY-86181208         446         2    Анастасия Дудкина 2024-03-31\n",
       "\n",
       "[4603 rows x 5 columns]"
      ]
     },
     "execution_count": 8,
     "metadata": {},
     "output_type": "execute_result"
    }
   ],
   "source": [
    "df_orders"
   ]
  },
  {
   "cell_type": "code",
   "execution_count": 9,
   "id": "6e081e86",
   "metadata": {},
   "outputs": [],
   "source": [
    "# Ваш код здесь\n",
    "\n",
    "df_top_dates_by_orders = df_orders.groupby('date', as_index=False) \\\n",
    "    .agg(orders_count=('order_id', 'count')) \\\n",
    "    .sort_values('orders_count', ascending=False)\n"
   ]
  },
  {
   "cell_type": "code",
   "execution_count": 10,
   "id": "84414e73",
   "metadata": {},
   "outputs": [
    {
     "data": {
      "text/html": [
       "<div>\n",
       "<style scoped>\n",
       "    .dataframe tbody tr th:only-of-type {\n",
       "        vertical-align: middle;\n",
       "    }\n",
       "\n",
       "    .dataframe tbody tr th {\n",
       "        vertical-align: top;\n",
       "    }\n",
       "\n",
       "    .dataframe thead th {\n",
       "        text-align: right;\n",
       "    }\n",
       "</style>\n",
       "<table border=\"1\" class=\"dataframe\">\n",
       "  <thead>\n",
       "    <tr style=\"text-align: right;\">\n",
       "      <th></th>\n",
       "      <th>date</th>\n",
       "      <th>orders_count</th>\n",
       "    </tr>\n",
       "  </thead>\n",
       "  <tbody>\n",
       "    <tr>\n",
       "      <th>13</th>\n",
       "      <td>2024-03-14</td>\n",
       "      <td>437</td>\n",
       "    </tr>\n",
       "    <tr>\n",
       "      <th>12</th>\n",
       "      <td>2024-03-13</td>\n",
       "      <td>339</td>\n",
       "    </tr>\n",
       "    <tr>\n",
       "      <th>0</th>\n",
       "      <td>2024-03-01</td>\n",
       "      <td>302</td>\n",
       "    </tr>\n",
       "    <tr>\n",
       "      <th>28</th>\n",
       "      <td>2024-03-29</td>\n",
       "      <td>241</td>\n",
       "    </tr>\n",
       "    <tr>\n",
       "      <th>25</th>\n",
       "      <td>2024-03-26</td>\n",
       "      <td>231</td>\n",
       "    </tr>\n",
       "  </tbody>\n",
       "</table>\n",
       "</div>"
      ],
      "text/plain": [
       "         date  orders_count\n",
       "13 2024-03-14           437\n",
       "12 2024-03-13           339\n",
       "0  2024-03-01           302\n",
       "28 2024-03-29           241\n",
       "25 2024-03-26           231"
      ]
     },
     "execution_count": 10,
     "metadata": {},
     "output_type": "execute_result"
    }
   ],
   "source": [
    "df_top_dates_by_orders.head()"
   ]
  },
  {
   "cell_type": "markdown",
   "id": "524f885f",
   "metadata": {},
   "source": [
    "## Шаг 4"
   ]
  },
  {
   "cell_type": "markdown",
   "id": "6a05989a",
   "metadata": {},
   "source": [
    "**Построим график с количеством заказов по дням и определим, заметна ли в данных сезонность.**\n",
    "\n",
    "- Да, по выходным заказов намного больше, чем в остальные дни  \n",
    "- Да, по выходным почти нет заказов  \n",
    "- Да, по понедельникам заказов всегда больше, чем в остальные дни недели  \n",
    "- Да, по понедельникам заказов всегда меньше, чем в остальные дни недели  \n",
    "- Нет, в данных сложно обнаружить какие-то закономерности  "
   ]
  },
  {
   "cell_type": "code",
   "execution_count": 11,
   "id": "9f1f2409",
   "metadata": {},
   "outputs": [
    {
     "data": {
      "image/png": "[encoded data removed]",
      "text/plain": [
       "<Figure size 1600x900 with 1 Axes>"
      ]
     },
     "metadata": {},
     "output_type": "display_data"
    }
   ],
   "source": [
    "# Ваш код здесь\n",
    "import seaborn as sns\n",
    "import matplotlib.pyplot as plt\n",
    "\n",
    "\n",
    "plt.figure(figsize=(16, 9))\n",
    "\n",
    "sns.lineplot(data=df_top_dates_by_orders, x='date', y='orders_count', marker='o')\n",
    "\n",
    "plt.title(\"Количество заказов по дням\")\n",
    "plt.ylabel(\"Количество заказов\")\n",
    "plt.xlabel(\"\")\n",
    "plt.xticks(rotation=45);\n",
    "\n"
   ]
  },
  {
   "cell_type": "code",
   "execution_count": 12,
   "id": "37667d46",
   "metadata": {},
   "outputs": [
    {
     "data": {
      "image/png": "[encoded data removed]",
      "text/plain": [
       "<Figure size 1200x600 with 1 Axes>"
      ]
     },
     "metadata": {},
     "output_type": "display_data"
    }
   ],
   "source": [
    "df_top_dates_by_orders['is_weekend'] = df_top_dates_by_orders['date'].dt.dayofweek >= 5\n",
    "df_top_dates_by_orders['is_weekend'] = df_top_dates_by_orders['is_weekend'].map({True: 'Выходной', False: 'Будний'})\n",
    "\n",
    "\n",
    "plt.figure(figsize=(12, 6))\n",
    "\n",
    "ax1 = sns.barplot(\n",
    "    data=df_top_dates_by_orders,\n",
    "    x='date',\n",
    "    y='orders_count',\n",
    "    hue='is_weekend',\n",
    ")\n",
    "ax1.bar_label(ax1.containers[0])\n",
    "\n",
    "# Изменим подписи у дат\n",
    "date_labels = df_top_dates_by_orders['date'].dt.strftime(\"%d-%b\") # %b - сокр. название месяца\n",
    "ax1.set_xticks(range(len(date_labels))) # задаем диапазон дат\n",
    "ax1.set_xticklabels(date_labels, rotation=45, ha=\"right\") # размещаем новую версию дат\n",
    "\n",
    "plt.show()"
   ]
  },
  {
   "cell_type": "markdown",
   "id": "3e802b2b",
   "metadata": {},
   "source": [
    "Вывод: В данных заметна сезонность, по выходным почти нет заказов"
   ]
  },
  {
   "cell_type": "markdown",
   "id": "3015bf3c",
   "metadata": {},
   "source": [
    "## Шаг 5"
   ]
  },
  {
   "cell_type": "markdown",
   "id": "b23d4fc9",
   "metadata": {},
   "source": [
    "**Кажется, в данных помимо дня с наибольшим числом заказов есть еще один день, который выбивается из общей картины.** Что это за день:  \n",
    "- Это воскресенье, в которое было много заказов?  \n",
    "- Это понедельник, в который было много заказов?  \n",
    "- Это пятница, в которую было мало заказов?  \n",
    "- Это праздничный день, в который было мало заказов?\n",
    "\n",
    "Укажите этот день в том формате, в котором он представлен в данных (гггг-мм-дд)"
   ]
  },
  {
   "cell_type": "markdown",
   "id": "52798129",
   "metadata": {},
   "source": [
    "Ответ: 2024-03-08\n",
    "\n",
    "8 марта - будний день, но праздничный и нерабочий, поэтому заказов было мало"
   ]
  },
  {
   "cell_type": "markdown",
   "id": "140f3ce5",
   "metadata": {},
   "source": [
    "## Шаг 6"
   ]
  },
  {
   "cell_type": "markdown",
   "id": "ccf15aac",
   "metadata": {},
   "source": [
    "К вам пришел радостный руководитель отдела продаж и попросил выяснить причину, почему заказы в один из дней резко подскочили, чтобы и дальше увеличивать продажи.\n",
    "\n",
    "Возможно, в день с наибольшим числом заказов (который вы определили на третьем шаге) отдел маркетинга запустил какую-то акцию? Или менеджеры стали активнее предлагать компаниям оформить заказ? Нужно подробнее изучить этот день. Начнем со статусов заказа.\n",
    "\n",
    "**Добавьте к данным о заказах информацию об их статусах. Общий датафрейм назовите `orders_status`. Сохраните получившийся датафрейм в csv файл `orders_status.csv` (при сохранении используйте параметр `index=False`) и отправьте этот csv файл на проверку в LMS.**"
   ]
  },
  {
   "cell_type": "code",
   "execution_count": 13,
   "id": "657b9b15",
   "metadata": {},
   "outputs": [],
   "source": [
    "# Ваш код здесь\n",
    "orders_status = pd.merge(df_orders, df_order_status, on='order_id')\n"
   ]
  },
  {
   "cell_type": "code",
   "execution_count": 14,
   "id": "918910c4",
   "metadata": {},
   "outputs": [
    {
     "data": {
      "text/html": [
       "<div>\n",
       "<style scoped>\n",
       "    .dataframe tbody tr th:only-of-type {\n",
       "        vertical-align: middle;\n",
       "    }\n",
       "\n",
       "    .dataframe tbody tr th {\n",
       "        vertical-align: top;\n",
       "    }\n",
       "\n",
       "    .dataframe thead th {\n",
       "        text-align: right;\n",
       "    }\n",
       "</style>\n",
       "<table border=\"1\" class=\"dataframe\">\n",
       "  <thead>\n",
       "    <tr style=\"text-align: right;\">\n",
       "      <th></th>\n",
       "      <th>order_id</th>\n",
       "      <th>product_id</th>\n",
       "      <th>quantity</th>\n",
       "      <th>manager</th>\n",
       "      <th>date</th>\n",
       "      <th>client_id</th>\n",
       "      <th>status</th>\n",
       "    </tr>\n",
       "  </thead>\n",
       "  <tbody>\n",
       "    <tr>\n",
       "      <th>0</th>\n",
       "      <td>DUEU-27693834</td>\n",
       "      <td>933</td>\n",
       "      <td>7</td>\n",
       "      <td>Алексей Саксофонов</td>\n",
       "      <td>2024-03-01</td>\n",
       "      <td>14</td>\n",
       "      <td>confirmed</td>\n",
       "    </tr>\n",
       "    <tr>\n",
       "      <th>1</th>\n",
       "      <td>DUEU-27693834</td>\n",
       "      <td>1645</td>\n",
       "      <td>36</td>\n",
       "      <td>Алексей Саксофонов</td>\n",
       "      <td>2024-03-01</td>\n",
       "      <td>14</td>\n",
       "      <td>confirmed</td>\n",
       "    </tr>\n",
       "    <tr>\n",
       "      <th>2</th>\n",
       "      <td>DUEU-27693834</td>\n",
       "      <td>1596</td>\n",
       "      <td>40</td>\n",
       "      <td>Алексей Саксофонов</td>\n",
       "      <td>2024-03-01</td>\n",
       "      <td>14</td>\n",
       "      <td>confirmed</td>\n",
       "    </tr>\n",
       "    <tr>\n",
       "      <th>3</th>\n",
       "      <td>DUEU-27693834</td>\n",
       "      <td>648</td>\n",
       "      <td>10</td>\n",
       "      <td>Алексей Саксофонов</td>\n",
       "      <td>2024-03-01</td>\n",
       "      <td>14</td>\n",
       "      <td>confirmed</td>\n",
       "    </tr>\n",
       "    <tr>\n",
       "      <th>4</th>\n",
       "      <td>DUEU-27693834</td>\n",
       "      <td>1413</td>\n",
       "      <td>6</td>\n",
       "      <td>Алексей Саксофонов</td>\n",
       "      <td>2024-03-01</td>\n",
       "      <td>14</td>\n",
       "      <td>confirmed</td>\n",
       "    </tr>\n",
       "  </tbody>\n",
       "</table>\n",
       "</div>"
      ],
      "text/plain": [
       "        order_id  product_id  quantity              manager       date  \\\n",
       "0  DUEU-27693834         933         7  Алексей Саксофонов 2024-03-01   \n",
       "1  DUEU-27693834        1645        36  Алексей Саксофонов 2024-03-01   \n",
       "2  DUEU-27693834        1596        40  Алексей Саксофонов 2024-03-01   \n",
       "3  DUEU-27693834         648        10  Алексей Саксофонов 2024-03-01   \n",
       "4  DUEU-27693834        1413         6  Алексей Саксофонов 2024-03-01   \n",
       "\n",
       "   client_id     status  \n",
       "0         14  confirmed  \n",
       "1         14  confirmed  \n",
       "2         14  confirmed  \n",
       "3         14  confirmed  \n",
       "4         14  confirmed  "
      ]
     },
     "execution_count": 14,
     "metadata": {},
     "output_type": "execute_result"
    }
   ],
   "source": [
    "orders_status.head()"
   ]
  },
  {
   "cell_type": "code",
   "execution_count": 15,
   "id": "448547f9",
   "metadata": {},
   "outputs": [],
   "source": [
    "orders_status.to_csv('orders_status.csv', index=False)"
   ]
  },
  {
   "cell_type": "markdown",
   "id": "1e934593",
   "metadata": {},
   "source": [
    "## Шаг 7"
   ]
  },
  {
   "cell_type": "markdown",
   "id": "b85fbbcc",
   "metadata": {},
   "source": [
    "Посмотрите на количество и соотношение подтвержденных и отмененных заказов. **В ответе укажите долю отмененных заказов.** Ответ округлите до двух знаков после точки."
   ]
  },
  {
   "cell_type": "code",
   "execution_count": 16,
   "id": "09e173e9",
   "metadata": {},
   "outputs": [
    {
     "data": {
      "text/plain": [
       "status\n",
       "confirmed    4083\n",
       "canceled      520\n",
       "Name: count, dtype: int64"
      ]
     },
     "execution_count": 16,
     "metadata": {},
     "output_type": "execute_result"
    }
   ],
   "source": [
    "orders_status.status.value_counts()"
   ]
  },
  {
   "cell_type": "code",
   "execution_count": 17,
   "id": "477b9ce3",
   "metadata": {},
   "outputs": [
    {
     "name": "stdout",
     "output_type": "stream",
     "text": [
      "Доля отмененных заказов: 0.11\n"
     ]
    }
   ],
   "source": [
    "total = len(orders_status.status)\n",
    "canceled = (orders_status.status == 'canceled').sum()\n",
    "\n",
    "share_canceled = canceled / total\n",
    "\n",
    "print(f\"Доля отмененных заказов: {share_canceled:.2f}\")"
   ]
  },
  {
   "cell_type": "markdown",
   "id": "93540818",
   "metadata": {},
   "source": [
    "## Шаг 8"
   ]
  },
  {
   "cell_type": "markdown",
   "id": "4f931cda",
   "metadata": {},
   "source": [
    "**Посчитайте количество подтвержденных и отмененных заказов на каждую дату.** Определите, в какой день не было ни одного подтвержденного заказа. Для этого сделайте сводную таблицу, где в строках будут даты, в колонках — стутасы заказов, а значения — число заказов с этим статусом в определенную дату. Пропуски заполните нулями.  \n",
    "\n",
    "**В ответ укажите день, когда не было ни одного подтвержденного заказа.** Дату укажите в том формате, в котором она представлена в данных (гггг-мм-дд)."
   ]
  },
  {
   "cell_type": "code",
   "execution_count": 18,
   "id": "81c326aa",
   "metadata": {},
   "outputs": [
    {
     "data": {
      "text/html": [
       "<div>\n",
       "<style scoped>\n",
       "    .dataframe tbody tr th:only-of-type {\n",
       "        vertical-align: middle;\n",
       "    }\n",
       "\n",
       "    .dataframe tbody tr th {\n",
       "        vertical-align: top;\n",
       "    }\n",
       "\n",
       "    .dataframe thead th {\n",
       "        text-align: right;\n",
       "    }\n",
       "</style>\n",
       "<table border=\"1\" class=\"dataframe\">\n",
       "  <thead>\n",
       "    <tr style=\"text-align: right;\">\n",
       "      <th></th>\n",
       "      <th>order_id</th>\n",
       "      <th>product_id</th>\n",
       "      <th>quantity</th>\n",
       "      <th>manager</th>\n",
       "      <th>date</th>\n",
       "      <th>client_id</th>\n",
       "      <th>status</th>\n",
       "    </tr>\n",
       "  </thead>\n",
       "  <tbody>\n",
       "    <tr>\n",
       "      <th>0</th>\n",
       "      <td>DUEU-27693834</td>\n",
       "      <td>933</td>\n",
       "      <td>7</td>\n",
       "      <td>Алексей Саксофонов</td>\n",
       "      <td>2024-03-01</td>\n",
       "      <td>14</td>\n",
       "      <td>confirmed</td>\n",
       "    </tr>\n",
       "    <tr>\n",
       "      <th>1</th>\n",
       "      <td>DUEU-27693834</td>\n",
       "      <td>1645</td>\n",
       "      <td>36</td>\n",
       "      <td>Алексей Саксофонов</td>\n",
       "      <td>2024-03-01</td>\n",
       "      <td>14</td>\n",
       "      <td>confirmed</td>\n",
       "    </tr>\n",
       "    <tr>\n",
       "      <th>2</th>\n",
       "      <td>DUEU-27693834</td>\n",
       "      <td>1596</td>\n",
       "      <td>40</td>\n",
       "      <td>Алексей Саксофонов</td>\n",
       "      <td>2024-03-01</td>\n",
       "      <td>14</td>\n",
       "      <td>confirmed</td>\n",
       "    </tr>\n",
       "    <tr>\n",
       "      <th>3</th>\n",
       "      <td>DUEU-27693834</td>\n",
       "      <td>648</td>\n",
       "      <td>10</td>\n",
       "      <td>Алексей Саксофонов</td>\n",
       "      <td>2024-03-01</td>\n",
       "      <td>14</td>\n",
       "      <td>confirmed</td>\n",
       "    </tr>\n",
       "    <tr>\n",
       "      <th>4</th>\n",
       "      <td>DUEU-27693834</td>\n",
       "      <td>1413</td>\n",
       "      <td>6</td>\n",
       "      <td>Алексей Саксофонов</td>\n",
       "      <td>2024-03-01</td>\n",
       "      <td>14</td>\n",
       "      <td>confirmed</td>\n",
       "    </tr>\n",
       "  </tbody>\n",
       "</table>\n",
       "</div>"
      ],
      "text/plain": [
       "        order_id  product_id  quantity              manager       date  \\\n",
       "0  DUEU-27693834         933         7  Алексей Саксофонов 2024-03-01   \n",
       "1  DUEU-27693834        1645        36  Алексей Саксофонов 2024-03-01   \n",
       "2  DUEU-27693834        1596        40  Алексей Саксофонов 2024-03-01   \n",
       "3  DUEU-27693834         648        10  Алексей Саксофонов 2024-03-01   \n",
       "4  DUEU-27693834        1413         6  Алексей Саксофонов 2024-03-01   \n",
       "\n",
       "   client_id     status  \n",
       "0         14  confirmed  \n",
       "1         14  confirmed  \n",
       "2         14  confirmed  \n",
       "3         14  confirmed  \n",
       "4         14  confirmed  "
      ]
     },
     "execution_count": 18,
     "metadata": {},
     "output_type": "execute_result"
    }
   ],
   "source": [
    "orders_status.head()"
   ]
  },
  {
   "cell_type": "code",
   "execution_count": 19,
   "id": "e8fd7da3",
   "metadata": {},
   "outputs": [],
   "source": [
    "# Ваш код здесь\n",
    "orders_by_day_status = orders_status.groupby(['date', 'status'], as_index=False) \\\n",
    "            .agg(qnt=('product_id', 'count')) \\\n",
    "            .pivot(index='date', columns='status', values='qnt') \\\n",
    "            .fillna(0)\n",
    "            "
   ]
  },
  {
   "cell_type": "code",
   "execution_count": 20,
   "id": "b7766bb5",
   "metadata": {},
   "outputs": [
    {
     "name": "stdout",
     "output_type": "stream",
     "text": [
      "2024-03-09\n"
     ]
    }
   ],
   "source": [
    "dates_only = [d.strftime('%Y-%m-%d') for d in orders_by_day_status.query('confirmed == 0').index]\n",
    "print(*dates_only)"
   ]
  },
  {
   "cell_type": "markdown",
   "id": "6504b7d1",
   "metadata": {},
   "source": [
    "## Шаг 9"
   ]
  },
  {
   "cell_type": "markdown",
   "id": "a0e86b76",
   "metadata": {},
   "source": [
    "**Постройте график с заказами по дням в разбивке по статусу заказа.** Посмотрим подробнее на день с наибольшим числом заказов (вместе и подтвержденных, и отменных), который мы определили ранее, и на день, предшествующий ему. Какой вывод можно сделать? Выберите один или несколько вариантов:\n",
    "\n",
    "- В день с наибольшим числом заказов было очень много отмен  \n",
    "- В день с наибольшим числом заказов было много успешно оформленных заказов  \n",
    "- В день, предшествующий дню с наибольшим числом заказов, было много отмен  \n",
    "- В день, предшествующий дню с наибольшим числом заказов, было много успешно оформленных заказов  \n",
    "- В день, предшествующий дню с наибольшим числом заказов, не было ни одного успешно оформленного заказа  \n",
    "- В день, предшествующий дню с наибольшим числом заказов, не было ни одного отмененного заказа"
   ]
  },
  {
   "cell_type": "code",
   "execution_count": 21,
   "id": "7dcda36e",
   "metadata": {},
   "outputs": [
    {
     "data": {
      "text/html": [
       "<div>\n",
       "<style scoped>\n",
       "    .dataframe tbody tr th:only-of-type {\n",
       "        vertical-align: middle;\n",
       "    }\n",
       "\n",
       "    .dataframe tbody tr th {\n",
       "        vertical-align: top;\n",
       "    }\n",
       "\n",
       "    .dataframe thead th {\n",
       "        text-align: right;\n",
       "    }\n",
       "</style>\n",
       "<table border=\"1\" class=\"dataframe\">\n",
       "  <thead>\n",
       "    <tr style=\"text-align: right;\">\n",
       "      <th>status</th>\n",
       "      <th>canceled</th>\n",
       "      <th>confirmed</th>\n",
       "    </tr>\n",
       "    <tr>\n",
       "      <th>date</th>\n",
       "      <th></th>\n",
       "      <th></th>\n",
       "    </tr>\n",
       "  </thead>\n",
       "  <tbody>\n",
       "    <tr>\n",
       "      <th>2024-03-01</th>\n",
       "      <td>29.0</td>\n",
       "      <td>273.0</td>\n",
       "    </tr>\n",
       "    <tr>\n",
       "      <th>2024-03-02</th>\n",
       "      <td>0.0</td>\n",
       "      <td>30.0</td>\n",
       "    </tr>\n",
       "    <tr>\n",
       "      <th>2024-03-03</th>\n",
       "      <td>0.0</td>\n",
       "      <td>8.0</td>\n",
       "    </tr>\n",
       "    <tr>\n",
       "      <th>2024-03-04</th>\n",
       "      <td>0.0</td>\n",
       "      <td>143.0</td>\n",
       "    </tr>\n",
       "    <tr>\n",
       "      <th>2024-03-05</th>\n",
       "      <td>0.0</td>\n",
       "      <td>222.0</td>\n",
       "    </tr>\n",
       "    <tr>\n",
       "      <th>2024-03-06</th>\n",
       "      <td>12.0</td>\n",
       "      <td>209.0</td>\n",
       "    </tr>\n",
       "    <tr>\n",
       "      <th>2024-03-07</th>\n",
       "      <td>5.0</td>\n",
       "      <td>196.0</td>\n",
       "    </tr>\n",
       "    <tr>\n",
       "      <th>2024-03-08</th>\n",
       "      <td>0.0</td>\n",
       "      <td>5.0</td>\n",
       "    </tr>\n",
       "    <tr>\n",
       "      <th>2024-03-09</th>\n",
       "      <td>18.0</td>\n",
       "      <td>0.0</td>\n",
       "    </tr>\n",
       "    <tr>\n",
       "      <th>2024-03-10</th>\n",
       "      <td>12.0</td>\n",
       "      <td>23.0</td>\n",
       "    </tr>\n",
       "  </tbody>\n",
       "</table>\n",
       "</div>"
      ],
      "text/plain": [
       "status      canceled  confirmed\n",
       "date                           \n",
       "2024-03-01      29.0      273.0\n",
       "2024-03-02       0.0       30.0\n",
       "2024-03-03       0.0        8.0\n",
       "2024-03-04       0.0      143.0\n",
       "2024-03-05       0.0      222.0\n",
       "2024-03-06      12.0      209.0\n",
       "2024-03-07       5.0      196.0\n",
       "2024-03-08       0.0        5.0\n",
       "2024-03-09      18.0        0.0\n",
       "2024-03-10      12.0       23.0"
      ]
     },
     "execution_count": 21,
     "metadata": {},
     "output_type": "execute_result"
    }
   ],
   "source": [
    "orders_by_day_status.head(10)"
   ]
  },
  {
   "cell_type": "code",
   "execution_count": 22,
   "id": "189c5afa",
   "metadata": {},
   "outputs": [],
   "source": [
    "orders_by_day_status['total_orders'] = orders_by_day_status.sum(axis=1)"
   ]
  },
  {
   "cell_type": "code",
   "execution_count": 23,
   "id": "3dfa172a",
   "metadata": {},
   "outputs": [
    {
     "data": {
      "text/html": [
       "<div>\n",
       "<style scoped>\n",
       "    .dataframe tbody tr th:only-of-type {\n",
       "        vertical-align: middle;\n",
       "    }\n",
       "\n",
       "    .dataframe tbody tr th {\n",
       "        vertical-align: top;\n",
       "    }\n",
       "\n",
       "    .dataframe thead th {\n",
       "        text-align: right;\n",
       "    }\n",
       "</style>\n",
       "<table border=\"1\" class=\"dataframe\">\n",
       "  <thead>\n",
       "    <tr style=\"text-align: right;\">\n",
       "      <th>status</th>\n",
       "      <th>canceled</th>\n",
       "      <th>confirmed</th>\n",
       "      <th>total_orders</th>\n",
       "    </tr>\n",
       "    <tr>\n",
       "      <th>date</th>\n",
       "      <th></th>\n",
       "      <th></th>\n",
       "      <th></th>\n",
       "    </tr>\n",
       "  </thead>\n",
       "  <tbody>\n",
       "    <tr>\n",
       "      <th>2024-03-01</th>\n",
       "      <td>29.0</td>\n",
       "      <td>273.0</td>\n",
       "      <td>302.0</td>\n",
       "    </tr>\n",
       "    <tr>\n",
       "      <th>2024-03-02</th>\n",
       "      <td>0.0</td>\n",
       "      <td>30.0</td>\n",
       "      <td>30.0</td>\n",
       "    </tr>\n",
       "    <tr>\n",
       "      <th>2024-03-03</th>\n",
       "      <td>0.0</td>\n",
       "      <td>8.0</td>\n",
       "      <td>8.0</td>\n",
       "    </tr>\n",
       "    <tr>\n",
       "      <th>2024-03-04</th>\n",
       "      <td>0.0</td>\n",
       "      <td>143.0</td>\n",
       "      <td>143.0</td>\n",
       "    </tr>\n",
       "    <tr>\n",
       "      <th>2024-03-05</th>\n",
       "      <td>0.0</td>\n",
       "      <td>222.0</td>\n",
       "      <td>222.0</td>\n",
       "    </tr>\n",
       "    <tr>\n",
       "      <th>2024-03-06</th>\n",
       "      <td>12.0</td>\n",
       "      <td>209.0</td>\n",
       "      <td>221.0</td>\n",
       "    </tr>\n",
       "    <tr>\n",
       "      <th>2024-03-07</th>\n",
       "      <td>5.0</td>\n",
       "      <td>196.0</td>\n",
       "      <td>201.0</td>\n",
       "    </tr>\n",
       "    <tr>\n",
       "      <th>2024-03-08</th>\n",
       "      <td>0.0</td>\n",
       "      <td>5.0</td>\n",
       "      <td>5.0</td>\n",
       "    </tr>\n",
       "    <tr>\n",
       "      <th>2024-03-09</th>\n",
       "      <td>18.0</td>\n",
       "      <td>0.0</td>\n",
       "      <td>18.0</td>\n",
       "    </tr>\n",
       "    <tr>\n",
       "      <th>2024-03-10</th>\n",
       "      <td>12.0</td>\n",
       "      <td>23.0</td>\n",
       "      <td>35.0</td>\n",
       "    </tr>\n",
       "  </tbody>\n",
       "</table>\n",
       "</div>"
      ],
      "text/plain": [
       "status      canceled  confirmed  total_orders\n",
       "date                                         \n",
       "2024-03-01      29.0      273.0         302.0\n",
       "2024-03-02       0.0       30.0          30.0\n",
       "2024-03-03       0.0        8.0           8.0\n",
       "2024-03-04       0.0      143.0         143.0\n",
       "2024-03-05       0.0      222.0         222.0\n",
       "2024-03-06      12.0      209.0         221.0\n",
       "2024-03-07       5.0      196.0         201.0\n",
       "2024-03-08       0.0        5.0           5.0\n",
       "2024-03-09      18.0        0.0          18.0\n",
       "2024-03-10      12.0       23.0          35.0"
      ]
     },
     "execution_count": 23,
     "metadata": {},
     "output_type": "execute_result"
    }
   ],
   "source": [
    "orders_by_day_status.head(10)"
   ]
  },
  {
   "cell_type": "code",
   "execution_count": 24,
   "id": "cc6c7f7e",
   "metadata": {},
   "outputs": [],
   "source": [
    "orders_by_day_status.index = orders_by_day_status.index.strftime('%Y-%m-%d')\n"
   ]
  },
  {
   "cell_type": "code",
   "execution_count": 25,
   "id": "337ab946",
   "metadata": {},
   "outputs": [
    {
     "data": {
      "text/html": [
       "<div>\n",
       "<style scoped>\n",
       "    .dataframe tbody tr th:only-of-type {\n",
       "        vertical-align: middle;\n",
       "    }\n",
       "\n",
       "    .dataframe tbody tr th {\n",
       "        vertical-align: top;\n",
       "    }\n",
       "\n",
       "    .dataframe thead th {\n",
       "        text-align: right;\n",
       "    }\n",
       "</style>\n",
       "<table border=\"1\" class=\"dataframe\">\n",
       "  <thead>\n",
       "    <tr style=\"text-align: right;\">\n",
       "      <th>status</th>\n",
       "      <th>canceled</th>\n",
       "      <th>confirmed</th>\n",
       "      <th>total_orders</th>\n",
       "    </tr>\n",
       "    <tr>\n",
       "      <th>date</th>\n",
       "      <th></th>\n",
       "      <th></th>\n",
       "      <th></th>\n",
       "    </tr>\n",
       "  </thead>\n",
       "  <tbody>\n",
       "    <tr>\n",
       "      <th>2024-03-14</th>\n",
       "      <td>0.0</td>\n",
       "      <td>437.0</td>\n",
       "      <td>437.0</td>\n",
       "    </tr>\n",
       "    <tr>\n",
       "      <th>2024-03-13</th>\n",
       "      <td>263.0</td>\n",
       "      <td>76.0</td>\n",
       "      <td>339.0</td>\n",
       "    </tr>\n",
       "    <tr>\n",
       "      <th>2024-03-01</th>\n",
       "      <td>29.0</td>\n",
       "      <td>273.0</td>\n",
       "      <td>302.0</td>\n",
       "    </tr>\n",
       "    <tr>\n",
       "      <th>2024-03-29</th>\n",
       "      <td>0.0</td>\n",
       "      <td>241.0</td>\n",
       "      <td>241.0</td>\n",
       "    </tr>\n",
       "    <tr>\n",
       "      <th>2024-03-26</th>\n",
       "      <td>14.0</td>\n",
       "      <td>217.0</td>\n",
       "      <td>231.0</td>\n",
       "    </tr>\n",
       "  </tbody>\n",
       "</table>\n",
       "</div>"
      ],
      "text/plain": [
       "status      canceled  confirmed  total_orders\n",
       "date                                         \n",
       "2024-03-14       0.0      437.0         437.0\n",
       "2024-03-13     263.0       76.0         339.0\n",
       "2024-03-01      29.0      273.0         302.0\n",
       "2024-03-29       0.0      241.0         241.0\n",
       "2024-03-26      14.0      217.0         231.0"
      ]
     },
     "execution_count": 25,
     "metadata": {},
     "output_type": "execute_result"
    }
   ],
   "source": [
    "orders_by_day_status.sort_values('total_orders', ascending=False).head(5)"
   ]
  },
  {
   "cell_type": "code",
   "execution_count": 26,
   "id": "eb20c737",
   "metadata": {},
   "outputs": [
    {
     "data": {
      "image/png": "[encoded data removed]",
      "text/plain": [
       "<Figure size 1600x900 with 1 Axes>"
      ]
     },
     "metadata": {},
     "output_type": "display_data"
    }
   ],
   "source": [
    "orders_by_day_status[['canceled', 'confirmed']].plot(\n",
    "    kind='bar',\n",
    "    figsize=(16,9),\n",
    "    color=['red', 'green']\n",
    ")\n",
    "\n",
    "plt.title('Количество заказов по дням и статусу')\n",
    "plt.ylabel('Число заказов')\n",
    "plt.xlabel('Дата') \n",
    "plt.xticks(rotation=45)\n",
    "plt.legend(title='Статус заказа') \n",
    "plt.grid(axis='y', linestyle='--', alpha=0.7)  # горизонтальная сетка\n",
    "\n",
    "plt.show()"
   ]
  },
  {
   "cell_type": "markdown",
   "id": "d64fb608",
   "metadata": {},
   "source": [
    "## Шаг 10"
   ]
  },
  {
   "cell_type": "markdown",
   "id": "7a01f451",
   "metadata": {},
   "source": [
    "Рассмотрим эти два дня отдельно (день с наибольшим числом заказов, который мы определили ранее, и день, предшествующий ему). Проанализируйте заказы за эти дни и ответьте, какую из этих гипотез можно назвать наиболее правдоподобной.\n",
    "\n",
    "- Так сложилось, что один день оказался крайне неудачным для отдела продаж, все клиенты отменили свои заказы. А на следующий день отдел продаж пытался компенсировать отсутствие продаж в предыдущий и перевыполнил дневной план. Почти все заказы не повторяют вчерашние  \n",
    "- Произошел сбой в работе CRM системы, который не позволил клиентам подтвердить заказ. В результате все созданные в первый день заказы автоматически отменились, поэтому клиентам пришлось оформлять их повторно на следующий день. Почти половина заказов повторяет вчерашние\n"
   ]
  },
  {
   "cell_type": "markdown",
   "id": "8594558b",
   "metadata": {},
   "source": [
    "Шаги для решения:      \n",
    "1) Отберем все отмененные заказы 13 марта и для каждого заказа агрегируем данные: посчитаем количество уникальных товаров в нем, сумму единиц всех товаров, а также возьмем менеджера и клиента.\n",
    "      \n",
    "2) Отберем все подтвержденные заказы 14 марта и для каждого заказа агрегируем данные: посчитаем количество уникальных товаров в нем, сумму единиц всех товаров, а также возьмем менеджера и клиента.\n",
    "      \n",
    "3) Объединим эти датафреймы с заказами по совпадающим характеристикам: имя менеджера, id клиента, число уникальных товаров в заказе и общее число товаров в штуках. Так у нас получатся те заказы, которые отменили в первый день и оформили заново на следующий.\n",
    "      \n",
    "4) Посчитайем число строк в датафрейме с заказами, которые отменили в первый день и оформили заново на следующий. Разделим это число на число строк в датафрейме с подтвержденными заказами 14 марта. Так мы узнаете долю заказов, которые повторяют вчерашние.\n",
    "      \n"
   ]
  },
  {
   "cell_type": "code",
   "execution_count": 27,
   "id": "aa916f0b",
   "metadata": {},
   "outputs": [
    {
     "data": {
      "text/html": [
       "<div>\n",
       "<style scoped>\n",
       "    .dataframe tbody tr th:only-of-type {\n",
       "        vertical-align: middle;\n",
       "    }\n",
       "\n",
       "    .dataframe tbody tr th {\n",
       "        vertical-align: top;\n",
       "    }\n",
       "\n",
       "    .dataframe thead th {\n",
       "        text-align: right;\n",
       "    }\n",
       "</style>\n",
       "<table border=\"1\" class=\"dataframe\">\n",
       "  <thead>\n",
       "    <tr style=\"text-align: right;\">\n",
       "      <th></th>\n",
       "      <th>order_id</th>\n",
       "      <th>product_id</th>\n",
       "      <th>quantity</th>\n",
       "      <th>manager</th>\n",
       "      <th>date</th>\n",
       "      <th>client_id</th>\n",
       "      <th>status</th>\n",
       "    </tr>\n",
       "  </thead>\n",
       "  <tbody>\n",
       "    <tr>\n",
       "      <th>0</th>\n",
       "      <td>DUEU-27693834</td>\n",
       "      <td>933</td>\n",
       "      <td>7</td>\n",
       "      <td>Алексей Саксофонов</td>\n",
       "      <td>2024-03-01</td>\n",
       "      <td>14</td>\n",
       "      <td>confirmed</td>\n",
       "    </tr>\n",
       "    <tr>\n",
       "      <th>1</th>\n",
       "      <td>DUEU-27693834</td>\n",
       "      <td>1645</td>\n",
       "      <td>36</td>\n",
       "      <td>Алексей Саксофонов</td>\n",
       "      <td>2024-03-01</td>\n",
       "      <td>14</td>\n",
       "      <td>confirmed</td>\n",
       "    </tr>\n",
       "    <tr>\n",
       "      <th>2</th>\n",
       "      <td>DUEU-27693834</td>\n",
       "      <td>1596</td>\n",
       "      <td>40</td>\n",
       "      <td>Алексей Саксофонов</td>\n",
       "      <td>2024-03-01</td>\n",
       "      <td>14</td>\n",
       "      <td>confirmed</td>\n",
       "    </tr>\n",
       "    <tr>\n",
       "      <th>3</th>\n",
       "      <td>DUEU-27693834</td>\n",
       "      <td>648</td>\n",
       "      <td>10</td>\n",
       "      <td>Алексей Саксофонов</td>\n",
       "      <td>2024-03-01</td>\n",
       "      <td>14</td>\n",
       "      <td>confirmed</td>\n",
       "    </tr>\n",
       "    <tr>\n",
       "      <th>4</th>\n",
       "      <td>DUEU-27693834</td>\n",
       "      <td>1413</td>\n",
       "      <td>6</td>\n",
       "      <td>Алексей Саксофонов</td>\n",
       "      <td>2024-03-01</td>\n",
       "      <td>14</td>\n",
       "      <td>confirmed</td>\n",
       "    </tr>\n",
       "  </tbody>\n",
       "</table>\n",
       "</div>"
      ],
      "text/plain": [
       "        order_id  product_id  quantity              manager       date  \\\n",
       "0  DUEU-27693834         933         7  Алексей Саксофонов 2024-03-01   \n",
       "1  DUEU-27693834        1645        36  Алексей Саксофонов 2024-03-01   \n",
       "2  DUEU-27693834        1596        40  Алексей Саксофонов 2024-03-01   \n",
       "3  DUEU-27693834         648        10  Алексей Саксофонов 2024-03-01   \n",
       "4  DUEU-27693834        1413         6  Алексей Саксофонов 2024-03-01   \n",
       "\n",
       "   client_id     status  \n",
       "0         14  confirmed  \n",
       "1         14  confirmed  \n",
       "2         14  confirmed  \n",
       "3         14  confirmed  \n",
       "4         14  confirmed  "
      ]
     },
     "execution_count": 27,
     "metadata": {},
     "output_type": "execute_result"
    }
   ],
   "source": [
    "orders_status.head()"
   ]
  },
  {
   "cell_type": "code",
   "execution_count": 28,
   "id": "8c3fca13",
   "metadata": {},
   "outputs": [
    {
     "name": "stdout",
     "output_type": "stream",
     "text": [
      "['confirmed' 'canceled']\n"
     ]
    }
   ],
   "source": [
    "print(orders_status['status'].unique())"
   ]
  },
  {
   "cell_type": "markdown",
   "id": "0430e4e0",
   "metadata": {},
   "source": [
    "### 1) Отмененные заказы 13 марта"
   ]
  },
  {
   "cell_type": "code",
   "execution_count": 29,
   "id": "738580cf",
   "metadata": {},
   "outputs": [
    {
     "name": "stderr",
     "output_type": "stream",
     "text": [
      "C:\\Users\\vesbe\\AppData\\Local\\Temp\\ipykernel_18968\\2772215377.py:1: FutureWarning: The behavior of 'isin' with dtype=datetime64[ns] and castable values (e.g. strings) is deprecated. In a future version, these will not be considered matching by isin. Explicitly cast to the appropriate dtype before calling isin instead.\n",
      "  canceled_orders_03_13 = orders_status.query('status == \"canceled\" and date == \"2024-03-13\"')\n"
     ]
    }
   ],
   "source": [
    "canceled_orders_03_13 = orders_status.query('status == \"canceled\" and date == \"2024-03-13\"')"
   ]
  },
  {
   "cell_type": "code",
   "execution_count": 30,
   "id": "89b4fd9b",
   "metadata": {},
   "outputs": [
    {
     "name": "stderr",
     "output_type": "stream",
     "text": [
      "C:\\Users\\vesbe\\AppData\\Local\\Temp\\ipykernel_18968\\1042694772.py:1: FutureWarning: The behavior of 'isin' with dtype=datetime64[ns] and castable values (e.g. strings) is deprecated. In a future version, these will not be considered matching by isin. Explicitly cast to the appropriate dtype before calling isin instead.\n",
      "  orders_status.query('status == \"canceled\" and date == \"2024-03-13\"')\n"
     ]
    },
    {
     "data": {
      "text/html": [
       "<div>\n",
       "<style scoped>\n",
       "    .dataframe tbody tr th:only-of-type {\n",
       "        vertical-align: middle;\n",
       "    }\n",
       "\n",
       "    .dataframe tbody tr th {\n",
       "        vertical-align: top;\n",
       "    }\n",
       "\n",
       "    .dataframe thead th {\n",
       "        text-align: right;\n",
       "    }\n",
       "</style>\n",
       "<table border=\"1\" class=\"dataframe\">\n",
       "  <thead>\n",
       "    <tr style=\"text-align: right;\">\n",
       "      <th></th>\n",
       "      <th>order_id</th>\n",
       "      <th>product_id</th>\n",
       "      <th>quantity</th>\n",
       "      <th>manager</th>\n",
       "      <th>date</th>\n",
       "      <th>client_id</th>\n",
       "      <th>status</th>\n",
       "    </tr>\n",
       "  </thead>\n",
       "  <tbody>\n",
       "    <tr>\n",
       "      <th>1573</th>\n",
       "      <td>AFIH-00611801</td>\n",
       "      <td>511</td>\n",
       "      <td>13</td>\n",
       "      <td>Алексей Саксофонов</td>\n",
       "      <td>2024-03-13</td>\n",
       "      <td>43</td>\n",
       "      <td>canceled</td>\n",
       "    </tr>\n",
       "    <tr>\n",
       "      <th>1574</th>\n",
       "      <td>AFIH-00611801</td>\n",
       "      <td>240</td>\n",
       "      <td>21</td>\n",
       "      <td>Алексей Саксофонов</td>\n",
       "      <td>2024-03-13</td>\n",
       "      <td>43</td>\n",
       "      <td>canceled</td>\n",
       "    </tr>\n",
       "    <tr>\n",
       "      <th>1575</th>\n",
       "      <td>AFIH-00611801</td>\n",
       "      <td>583</td>\n",
       "      <td>8</td>\n",
       "      <td>Алексей Саксофонов</td>\n",
       "      <td>2024-03-13</td>\n",
       "      <td>43</td>\n",
       "      <td>canceled</td>\n",
       "    </tr>\n",
       "    <tr>\n",
       "      <th>1576</th>\n",
       "      <td>AFIH-00611801</td>\n",
       "      <td>468</td>\n",
       "      <td>5</td>\n",
       "      <td>Алексей Саксофонов</td>\n",
       "      <td>2024-03-13</td>\n",
       "      <td>43</td>\n",
       "      <td>canceled</td>\n",
       "    </tr>\n",
       "    <tr>\n",
       "      <th>1577</th>\n",
       "      <td>AFIH-00611801</td>\n",
       "      <td>648</td>\n",
       "      <td>16</td>\n",
       "      <td>Алексей Саксофонов</td>\n",
       "      <td>2024-03-13</td>\n",
       "      <td>43</td>\n",
       "      <td>canceled</td>\n",
       "    </tr>\n",
       "    <tr>\n",
       "      <th>...</th>\n",
       "      <td>...</td>\n",
       "      <td>...</td>\n",
       "      <td>...</td>\n",
       "      <td>...</td>\n",
       "      <td>...</td>\n",
       "      <td>...</td>\n",
       "      <td>...</td>\n",
       "    </tr>\n",
       "    <tr>\n",
       "      <th>1907</th>\n",
       "      <td>UUZR-48309816</td>\n",
       "      <td>1676</td>\n",
       "      <td>14</td>\n",
       "      <td>Маргарита Камертонова</td>\n",
       "      <td>2024-03-13</td>\n",
       "      <td>26</td>\n",
       "      <td>canceled</td>\n",
       "    </tr>\n",
       "    <tr>\n",
       "      <th>1908</th>\n",
       "      <td>UUZR-48309816</td>\n",
       "      <td>421</td>\n",
       "      <td>36</td>\n",
       "      <td>Маргарита Камертонова</td>\n",
       "      <td>2024-03-13</td>\n",
       "      <td>26</td>\n",
       "      <td>canceled</td>\n",
       "    </tr>\n",
       "    <tr>\n",
       "      <th>1909</th>\n",
       "      <td>UUZR-48309816</td>\n",
       "      <td>118</td>\n",
       "      <td>18</td>\n",
       "      <td>Маргарита Камертонова</td>\n",
       "      <td>2024-03-13</td>\n",
       "      <td>26</td>\n",
       "      <td>canceled</td>\n",
       "    </tr>\n",
       "    <tr>\n",
       "      <th>1910</th>\n",
       "      <td>UUZR-48309816</td>\n",
       "      <td>804</td>\n",
       "      <td>21</td>\n",
       "      <td>Маргарита Камертонова</td>\n",
       "      <td>2024-03-13</td>\n",
       "      <td>26</td>\n",
       "      <td>canceled</td>\n",
       "    </tr>\n",
       "    <tr>\n",
       "      <th>1911</th>\n",
       "      <td>UUZR-48309816</td>\n",
       "      <td>593</td>\n",
       "      <td>13</td>\n",
       "      <td>Маргарита Камертонова</td>\n",
       "      <td>2024-03-13</td>\n",
       "      <td>26</td>\n",
       "      <td>canceled</td>\n",
       "    </tr>\n",
       "  </tbody>\n",
       "</table>\n",
       "<p>263 rows × 7 columns</p>\n",
       "</div>"
      ],
      "text/plain": [
       "           order_id  product_id  quantity                manager       date  \\\n",
       "1573  AFIH-00611801         511        13    Алексей Саксофонов 2024-03-13   \n",
       "1574  AFIH-00611801         240        21    Алексей Саксофонов 2024-03-13   \n",
       "1575  AFIH-00611801         583         8    Алексей Саксофонов 2024-03-13   \n",
       "1576  AFIH-00611801         468         5    Алексей Саксофонов 2024-03-13   \n",
       "1577  AFIH-00611801         648        16    Алексей Саксофонов 2024-03-13   \n",
       "...             ...         ...       ...                    ...        ...   \n",
       "1907  UUZR-48309816        1676        14  Маргарита Камертонова 2024-03-13   \n",
       "1908  UUZR-48309816         421        36  Маргарита Камертонова 2024-03-13   \n",
       "1909  UUZR-48309816         118        18  Маргарита Камертонова 2024-03-13   \n",
       "1910  UUZR-48309816         804        21  Маргарита Камертонова 2024-03-13   \n",
       "1911  UUZR-48309816         593        13  Маргарита Камертонова 2024-03-13   \n",
       "\n",
       "      client_id    status  \n",
       "1573         43  canceled  \n",
       "1574         43  canceled  \n",
       "1575         43  canceled  \n",
       "1576         43  canceled  \n",
       "1577         43  canceled  \n",
       "...         ...       ...  \n",
       "1907         26  canceled  \n",
       "1908         26  canceled  \n",
       "1909         26  canceled  \n",
       "1910         26  canceled  \n",
       "1911         26  canceled  \n",
       "\n",
       "[263 rows x 7 columns]"
      ]
     },
     "execution_count": 30,
     "metadata": {},
     "output_type": "execute_result"
    }
   ],
   "source": [
    "orders_status.query('status == \"canceled\" and date == \"2024-03-13\"')"
   ]
  },
  {
   "cell_type": "code",
   "execution_count": 31,
   "id": "1fb25e71",
   "metadata": {},
   "outputs": [],
   "source": [
    "\n",
    "\n",
    "canceled_agg_03_13 = canceled_orders_03_13.groupby('order_id', as_index=False) \\\n",
    "        .agg({\n",
    "            'product_id': 'nunique',\n",
    "            'quantity': 'sum',\n",
    "            'manager': 'max',\n",
    "            'client_id': 'max'\n",
    "        })"
   ]
  },
  {
   "cell_type": "code",
   "execution_count": 32,
   "id": "fd97eb5c",
   "metadata": {},
   "outputs": [
    {
     "data": {
      "text/html": [
       "<div>\n",
       "<style scoped>\n",
       "    .dataframe tbody tr th:only-of-type {\n",
       "        vertical-align: middle;\n",
       "    }\n",
       "\n",
       "    .dataframe tbody tr th {\n",
       "        vertical-align: top;\n",
       "    }\n",
       "\n",
       "    .dataframe thead th {\n",
       "        text-align: right;\n",
       "    }\n",
       "</style>\n",
       "<table border=\"1\" class=\"dataframe\">\n",
       "  <thead>\n",
       "    <tr style=\"text-align: right;\">\n",
       "      <th></th>\n",
       "      <th>order_id</th>\n",
       "      <th>product_id</th>\n",
       "      <th>quantity</th>\n",
       "      <th>manager</th>\n",
       "      <th>client_id</th>\n",
       "    </tr>\n",
       "  </thead>\n",
       "  <tbody>\n",
       "    <tr>\n",
       "      <th>0</th>\n",
       "      <td>AFIH-00611801</td>\n",
       "      <td>11</td>\n",
       "      <td>192</td>\n",
       "      <td>Алексей Саксофонов</td>\n",
       "      <td>43</td>\n",
       "    </tr>\n",
       "    <tr>\n",
       "      <th>1</th>\n",
       "      <td>BBFJ-27674101</td>\n",
       "      <td>14</td>\n",
       "      <td>294</td>\n",
       "      <td>Ксения Балалайкина</td>\n",
       "      <td>73</td>\n",
       "    </tr>\n",
       "    <tr>\n",
       "      <th>2</th>\n",
       "      <td>CLBQ-63032648</td>\n",
       "      <td>13</td>\n",
       "      <td>205</td>\n",
       "      <td>Виктор Тромбонов</td>\n",
       "      <td>60</td>\n",
       "    </tr>\n",
       "    <tr>\n",
       "      <th>3</th>\n",
       "      <td>CYJY-07359557</td>\n",
       "      <td>13</td>\n",
       "      <td>316</td>\n",
       "      <td>Екатерина Тарелкина</td>\n",
       "      <td>56</td>\n",
       "    </tr>\n",
       "    <tr>\n",
       "      <th>4</th>\n",
       "      <td>GHGB-88045656</td>\n",
       "      <td>4</td>\n",
       "      <td>42</td>\n",
       "      <td>Ксения Балалайкина</td>\n",
       "      <td>7</td>\n",
       "    </tr>\n",
       "  </tbody>\n",
       "</table>\n",
       "</div>"
      ],
      "text/plain": [
       "        order_id  product_id  quantity              manager  client_id\n",
       "0  AFIH-00611801          11       192  Алексей Саксофонов         43\n",
       "1  BBFJ-27674101          14       294  Ксения Балалайкина         73\n",
       "2  CLBQ-63032648          13       205     Виктор Тромбонов         60\n",
       "3  CYJY-07359557          13       316  Екатерина Тарелкина         56\n",
       "4  GHGB-88045656           4        42  Ксения Балалайкина          7"
      ]
     },
     "execution_count": 32,
     "metadata": {},
     "output_type": "execute_result"
    }
   ],
   "source": [
    "canceled_agg_03_13.head()"
   ]
  },
  {
   "cell_type": "markdown",
   "id": "7a9a938c",
   "metadata": {},
   "source": [
    "### 2) Подтвержденные заказы 14 марта"
   ]
  },
  {
   "cell_type": "code",
   "execution_count": 33,
   "id": "8e7cc784",
   "metadata": {},
   "outputs": [],
   "source": [
    "confirmed_orders_03_14 = orders_status[\n",
    "    (orders_status['date'] == '2024-03-14') & \n",
    "    (orders_status['status'] == 'confirmed')\n",
    "]\n"
   ]
  },
  {
   "cell_type": "code",
   "execution_count": 34,
   "id": "7489fa5f",
   "metadata": {},
   "outputs": [
    {
     "data": {
      "text/html": [
       "<div>\n",
       "<style scoped>\n",
       "    .dataframe tbody tr th:only-of-type {\n",
       "        vertical-align: middle;\n",
       "    }\n",
       "\n",
       "    .dataframe tbody tr th {\n",
       "        vertical-align: top;\n",
       "    }\n",
       "\n",
       "    .dataframe thead th {\n",
       "        text-align: right;\n",
       "    }\n",
       "</style>\n",
       "<table border=\"1\" class=\"dataframe\">\n",
       "  <thead>\n",
       "    <tr style=\"text-align: right;\">\n",
       "      <th></th>\n",
       "      <th>order_id</th>\n",
       "      <th>product_id</th>\n",
       "      <th>quantity</th>\n",
       "      <th>manager</th>\n",
       "      <th>date</th>\n",
       "      <th>client_id</th>\n",
       "      <th>status</th>\n",
       "    </tr>\n",
       "  </thead>\n",
       "  <tbody>\n",
       "    <tr>\n",
       "      <th>1912</th>\n",
       "      <td>FDEB-71487438</td>\n",
       "      <td>511</td>\n",
       "      <td>13</td>\n",
       "      <td>Алексей Саксофонов</td>\n",
       "      <td>2024-03-14</td>\n",
       "      <td>43</td>\n",
       "      <td>confirmed</td>\n",
       "    </tr>\n",
       "    <tr>\n",
       "      <th>1913</th>\n",
       "      <td>FDEB-71487438</td>\n",
       "      <td>240</td>\n",
       "      <td>21</td>\n",
       "      <td>Алексей Саксофонов</td>\n",
       "      <td>2024-03-14</td>\n",
       "      <td>43</td>\n",
       "      <td>confirmed</td>\n",
       "    </tr>\n",
       "    <tr>\n",
       "      <th>1914</th>\n",
       "      <td>FDEB-71487438</td>\n",
       "      <td>583</td>\n",
       "      <td>8</td>\n",
       "      <td>Алексей Саксофонов</td>\n",
       "      <td>2024-03-14</td>\n",
       "      <td>43</td>\n",
       "      <td>confirmed</td>\n",
       "    </tr>\n",
       "    <tr>\n",
       "      <th>1915</th>\n",
       "      <td>FDEB-71487438</td>\n",
       "      <td>468</td>\n",
       "      <td>5</td>\n",
       "      <td>Алексей Саксофонов</td>\n",
       "      <td>2024-03-14</td>\n",
       "      <td>43</td>\n",
       "      <td>confirmed</td>\n",
       "    </tr>\n",
       "    <tr>\n",
       "      <th>1916</th>\n",
       "      <td>FDEB-71487438</td>\n",
       "      <td>648</td>\n",
       "      <td>16</td>\n",
       "      <td>Алексей Саксофонов</td>\n",
       "      <td>2024-03-14</td>\n",
       "      <td>43</td>\n",
       "      <td>confirmed</td>\n",
       "    </tr>\n",
       "    <tr>\n",
       "      <th>...</th>\n",
       "      <td>...</td>\n",
       "      <td>...</td>\n",
       "      <td>...</td>\n",
       "      <td>...</td>\n",
       "      <td>...</td>\n",
       "      <td>...</td>\n",
       "      <td>...</td>\n",
       "    </tr>\n",
       "    <tr>\n",
       "      <th>2344</th>\n",
       "      <td>DMEB-71700015</td>\n",
       "      <td>756</td>\n",
       "      <td>42</td>\n",
       "      <td>Сергей Контрабасов</td>\n",
       "      <td>2024-03-14</td>\n",
       "      <td>93</td>\n",
       "      <td>confirmed</td>\n",
       "    </tr>\n",
       "    <tr>\n",
       "      <th>2345</th>\n",
       "      <td>DMEB-71700015</td>\n",
       "      <td>525</td>\n",
       "      <td>2</td>\n",
       "      <td>Сергей Контрабасов</td>\n",
       "      <td>2024-03-14</td>\n",
       "      <td>93</td>\n",
       "      <td>confirmed</td>\n",
       "    </tr>\n",
       "    <tr>\n",
       "      <th>2346</th>\n",
       "      <td>DMEB-71700015</td>\n",
       "      <td>590</td>\n",
       "      <td>22</td>\n",
       "      <td>Сергей Контрабасов</td>\n",
       "      <td>2024-03-14</td>\n",
       "      <td>93</td>\n",
       "      <td>confirmed</td>\n",
       "    </tr>\n",
       "    <tr>\n",
       "      <th>2347</th>\n",
       "      <td>DMEB-71700015</td>\n",
       "      <td>1260</td>\n",
       "      <td>11</td>\n",
       "      <td>Сергей Контрабасов</td>\n",
       "      <td>2024-03-14</td>\n",
       "      <td>93</td>\n",
       "      <td>confirmed</td>\n",
       "    </tr>\n",
       "    <tr>\n",
       "      <th>2348</th>\n",
       "      <td>DMEB-71700015</td>\n",
       "      <td>531</td>\n",
       "      <td>20</td>\n",
       "      <td>Сергей Контрабасов</td>\n",
       "      <td>2024-03-14</td>\n",
       "      <td>93</td>\n",
       "      <td>confirmed</td>\n",
       "    </tr>\n",
       "  </tbody>\n",
       "</table>\n",
       "<p>437 rows × 7 columns</p>\n",
       "</div>"
      ],
      "text/plain": [
       "           order_id  product_id  quantity              manager       date  \\\n",
       "1912  FDEB-71487438         511        13  Алексей Саксофонов 2024-03-14   \n",
       "1913  FDEB-71487438         240        21  Алексей Саксофонов 2024-03-14   \n",
       "1914  FDEB-71487438         583         8  Алексей Саксофонов 2024-03-14   \n",
       "1915  FDEB-71487438         468         5  Алексей Саксофонов 2024-03-14   \n",
       "1916  FDEB-71487438         648        16  Алексей Саксофонов 2024-03-14   \n",
       "...             ...         ...       ...                  ...        ...   \n",
       "2344  DMEB-71700015         756        42  Сергей Контрабасов 2024-03-14   \n",
       "2345  DMEB-71700015         525         2  Сергей Контрабасов 2024-03-14   \n",
       "2346  DMEB-71700015         590        22  Сергей Контрабасов 2024-03-14   \n",
       "2347  DMEB-71700015        1260        11  Сергей Контрабасов 2024-03-14   \n",
       "2348  DMEB-71700015         531        20  Сергей Контрабасов 2024-03-14   \n",
       "\n",
       "      client_id     status  \n",
       "1912         43  confirmed  \n",
       "1913         43  confirmed  \n",
       "1914         43  confirmed  \n",
       "1915         43  confirmed  \n",
       "1916         43  confirmed  \n",
       "...         ...        ...  \n",
       "2344         93  confirmed  \n",
       "2345         93  confirmed  \n",
       "2346         93  confirmed  \n",
       "2347         93  confirmed  \n",
       "2348         93  confirmed  \n",
       "\n",
       "[437 rows x 7 columns]"
      ]
     },
     "execution_count": 34,
     "metadata": {},
     "output_type": "execute_result"
    }
   ],
   "source": [
    "confirmed_orders_03_14"
   ]
  },
  {
   "cell_type": "code",
   "execution_count": 35,
   "id": "ea770421",
   "metadata": {},
   "outputs": [],
   "source": [
    "confirmed_agg_03_14 = confirmed_orders_03_14.groupby('order_id', as_index=False) \\\n",
    "        .agg({\n",
    "            'product_id': 'nunique',\n",
    "            'quantity': 'sum',\n",
    "            'manager': 'max',\n",
    "            'client_id': 'max'\n",
    "        })"
   ]
  },
  {
   "cell_type": "code",
   "execution_count": 36,
   "id": "ab0d7a13",
   "metadata": {},
   "outputs": [
    {
     "data": {
      "text/html": [
       "<div>\n",
       "<style scoped>\n",
       "    .dataframe tbody tr th:only-of-type {\n",
       "        vertical-align: middle;\n",
       "    }\n",
       "\n",
       "    .dataframe tbody tr th {\n",
       "        vertical-align: top;\n",
       "    }\n",
       "\n",
       "    .dataframe thead th {\n",
       "        text-align: right;\n",
       "    }\n",
       "</style>\n",
       "<table border=\"1\" class=\"dataframe\">\n",
       "  <thead>\n",
       "    <tr style=\"text-align: right;\">\n",
       "      <th></th>\n",
       "      <th>order_id</th>\n",
       "      <th>product_id</th>\n",
       "      <th>quantity</th>\n",
       "      <th>manager</th>\n",
       "      <th>client_id</th>\n",
       "    </tr>\n",
       "  </thead>\n",
       "  <tbody>\n",
       "    <tr>\n",
       "      <th>0</th>\n",
       "      <td>ACXS-56511429</td>\n",
       "      <td>8</td>\n",
       "      <td>177</td>\n",
       "      <td>Алексей Саксофонов</td>\n",
       "      <td>24</td>\n",
       "    </tr>\n",
       "    <tr>\n",
       "      <th>1</th>\n",
       "      <td>AUZX-12706022</td>\n",
       "      <td>19</td>\n",
       "      <td>369</td>\n",
       "      <td>Екатерина Тарелкина</td>\n",
       "      <td>83</td>\n",
       "    </tr>\n",
       "    <tr>\n",
       "      <th>2</th>\n",
       "      <td>BCMM-97072924</td>\n",
       "      <td>17</td>\n",
       "      <td>325</td>\n",
       "      <td>Алексей Саксофонов</td>\n",
       "      <td>51</td>\n",
       "    </tr>\n",
       "    <tr>\n",
       "      <th>3</th>\n",
       "      <td>BGHE-44722549</td>\n",
       "      <td>8</td>\n",
       "      <td>149</td>\n",
       "      <td>Виктор Тромбонов</td>\n",
       "      <td>95</td>\n",
       "    </tr>\n",
       "    <tr>\n",
       "      <th>4</th>\n",
       "      <td>DMEB-71700015</td>\n",
       "      <td>12</td>\n",
       "      <td>190</td>\n",
       "      <td>Сергей Контрабасов</td>\n",
       "      <td>93</td>\n",
       "    </tr>\n",
       "  </tbody>\n",
       "</table>\n",
       "</div>"
      ],
      "text/plain": [
       "        order_id  product_id  quantity              manager  client_id\n",
       "0  ACXS-56511429           8       177  Алексей Саксофонов         24\n",
       "1  AUZX-12706022          19       369  Екатерина Тарелкина         83\n",
       "2  BCMM-97072924          17       325  Алексей Саксофонов         51\n",
       "3  BGHE-44722549           8       149     Виктор Тромбонов         95\n",
       "4  DMEB-71700015          12       190  Сергей Контрабасов         93"
      ]
     },
     "execution_count": 36,
     "metadata": {},
     "output_type": "execute_result"
    }
   ],
   "source": [
    "confirmed_agg_03_14.head()"
   ]
  },
  {
   "cell_type": "markdown",
   "id": "091058c6",
   "metadata": {},
   "source": [
    "### 3) Объединение по совпадающим характеристикам"
   ]
  },
  {
   "cell_type": "code",
   "execution_count": 37,
   "id": "543c4b48",
   "metadata": {},
   "outputs": [],
   "source": [
    "merged_can13_con14 = pd.merge(canceled_agg_03_13, confirmed_agg_03_14,\n",
    "                               on=['manager', 'client_id', 'product_id', 'quantity'],\n",
    "                               suffixes=('_cancelled', '_confirmed'))"
   ]
  },
  {
   "cell_type": "code",
   "execution_count": 38,
   "id": "f166d28a",
   "metadata": {},
   "outputs": [
    {
     "data": {
      "text/html": [
       "<div>\n",
       "<style scoped>\n",
       "    .dataframe tbody tr th:only-of-type {\n",
       "        vertical-align: middle;\n",
       "    }\n",
       "\n",
       "    .dataframe tbody tr th {\n",
       "        vertical-align: top;\n",
       "    }\n",
       "\n",
       "    .dataframe thead th {\n",
       "        text-align: right;\n",
       "    }\n",
       "</style>\n",
       "<table border=\"1\" class=\"dataframe\">\n",
       "  <thead>\n",
       "    <tr style=\"text-align: right;\">\n",
       "      <th></th>\n",
       "      <th>order_id_cancelled</th>\n",
       "      <th>product_id</th>\n",
       "      <th>quantity</th>\n",
       "      <th>manager</th>\n",
       "      <th>client_id</th>\n",
       "      <th>order_id_confirmed</th>\n",
       "    </tr>\n",
       "  </thead>\n",
       "  <tbody>\n",
       "    <tr>\n",
       "      <th>0</th>\n",
       "      <td>AFIH-00611801</td>\n",
       "      <td>11</td>\n",
       "      <td>192</td>\n",
       "      <td>Алексей Саксофонов</td>\n",
       "      <td>43</td>\n",
       "      <td>FDEB-71487438</td>\n",
       "    </tr>\n",
       "    <tr>\n",
       "      <th>1</th>\n",
       "      <td>BBFJ-27674101</td>\n",
       "      <td>14</td>\n",
       "      <td>294</td>\n",
       "      <td>Ксения Балалайкина</td>\n",
       "      <td>73</td>\n",
       "      <td>UETB-44283966</td>\n",
       "    </tr>\n",
       "    <tr>\n",
       "      <th>2</th>\n",
       "      <td>CLBQ-63032648</td>\n",
       "      <td>13</td>\n",
       "      <td>205</td>\n",
       "      <td>Виктор Тромбонов</td>\n",
       "      <td>60</td>\n",
       "      <td>IECD-18739530</td>\n",
       "    </tr>\n",
       "    <tr>\n",
       "      <th>3</th>\n",
       "      <td>CYJY-07359557</td>\n",
       "      <td>13</td>\n",
       "      <td>316</td>\n",
       "      <td>Екатерина Тарелкина</td>\n",
       "      <td>56</td>\n",
       "      <td>WNMY-98871151</td>\n",
       "    </tr>\n",
       "    <tr>\n",
       "      <th>4</th>\n",
       "      <td>GHGB-88045656</td>\n",
       "      <td>4</td>\n",
       "      <td>42</td>\n",
       "      <td>Ксения Балалайкина</td>\n",
       "      <td>7</td>\n",
       "      <td>JUGG-73806170</td>\n",
       "    </tr>\n",
       "    <tr>\n",
       "      <th>5</th>\n",
       "      <td>JEIF-69283221</td>\n",
       "      <td>15</td>\n",
       "      <td>207</td>\n",
       "      <td>Виктор Тромбонов</td>\n",
       "      <td>94</td>\n",
       "      <td>EPBF-14743479</td>\n",
       "    </tr>\n",
       "    <tr>\n",
       "      <th>6</th>\n",
       "      <td>JQQO-28609300</td>\n",
       "      <td>15</td>\n",
       "      <td>252</td>\n",
       "      <td>Виктор Тромбонов</td>\n",
       "      <td>93</td>\n",
       "      <td>OWZC-14247946</td>\n",
       "    </tr>\n",
       "    <tr>\n",
       "      <th>7</th>\n",
       "      <td>KJJS-03491897</td>\n",
       "      <td>18</td>\n",
       "      <td>399</td>\n",
       "      <td>Алексей Саксофонов</td>\n",
       "      <td>66</td>\n",
       "      <td>GRCH-73394464</td>\n",
       "    </tr>\n",
       "    <tr>\n",
       "      <th>8</th>\n",
       "      <td>MIGZ-68487439</td>\n",
       "      <td>17</td>\n",
       "      <td>325</td>\n",
       "      <td>Алексей Саксофонов</td>\n",
       "      <td>51</td>\n",
       "      <td>BCMM-97072924</td>\n",
       "    </tr>\n",
       "    <tr>\n",
       "      <th>9</th>\n",
       "      <td>NBIO-35476164</td>\n",
       "      <td>14</td>\n",
       "      <td>319</td>\n",
       "      <td>Виктор Тромбонов</td>\n",
       "      <td>95</td>\n",
       "      <td>NFML-87752700</td>\n",
       "    </tr>\n",
       "    <tr>\n",
       "      <th>10</th>\n",
       "      <td>NENO-68279828</td>\n",
       "      <td>10</td>\n",
       "      <td>188</td>\n",
       "      <td>Владимир Ударников</td>\n",
       "      <td>38</td>\n",
       "      <td>IMND-92004620</td>\n",
       "    </tr>\n",
       "    <tr>\n",
       "      <th>11</th>\n",
       "      <td>NLSJ-24436750</td>\n",
       "      <td>12</td>\n",
       "      <td>260</td>\n",
       "      <td>Ксения Балалайкина</td>\n",
       "      <td>75</td>\n",
       "      <td>GYTK-45256974</td>\n",
       "    </tr>\n",
       "    <tr>\n",
       "      <th>12</th>\n",
       "      <td>OSTL-36241420</td>\n",
       "      <td>18</td>\n",
       "      <td>312</td>\n",
       "      <td>Маргарита Камертонова</td>\n",
       "      <td>76</td>\n",
       "      <td>PPXL-64637862</td>\n",
       "    </tr>\n",
       "    <tr>\n",
       "      <th>13</th>\n",
       "      <td>QYZK-30462944</td>\n",
       "      <td>14</td>\n",
       "      <td>262</td>\n",
       "      <td>Маргарита Камертонова</td>\n",
       "      <td>68</td>\n",
       "      <td>HMXC-87726636</td>\n",
       "    </tr>\n",
       "    <tr>\n",
       "      <th>14</th>\n",
       "      <td>RSBH-94158604</td>\n",
       "      <td>19</td>\n",
       "      <td>369</td>\n",
       "      <td>Екатерина Тарелкина</td>\n",
       "      <td>83</td>\n",
       "      <td>AUZX-12706022</td>\n",
       "    </tr>\n",
       "    <tr>\n",
       "      <th>15</th>\n",
       "      <td>UUZR-48309816</td>\n",
       "      <td>16</td>\n",
       "      <td>283</td>\n",
       "      <td>Маргарита Камертонова</td>\n",
       "      <td>26</td>\n",
       "      <td>FTPV-77865209</td>\n",
       "    </tr>\n",
       "  </tbody>\n",
       "</table>\n",
       "</div>"
      ],
      "text/plain": [
       "   order_id_cancelled  product_id  quantity                manager  client_id  \\\n",
       "0       AFIH-00611801          11       192    Алексей Саксофонов         43   \n",
       "1       BBFJ-27674101          14       294    Ксения Балалайкина         73   \n",
       "2       CLBQ-63032648          13       205       Виктор Тромбонов         60   \n",
       "3       CYJY-07359557          13       316    Екатерина Тарелкина         56   \n",
       "4       GHGB-88045656           4        42    Ксения Балалайкина          7   \n",
       "5       JEIF-69283221          15       207       Виктор Тромбонов         94   \n",
       "6       JQQO-28609300          15       252       Виктор Тромбонов         93   \n",
       "7       KJJS-03491897          18       399    Алексей Саксофонов         66   \n",
       "8       MIGZ-68487439          17       325    Алексей Саксофонов         51   \n",
       "9       NBIO-35476164          14       319       Виктор Тромбонов         95   \n",
       "10      NENO-68279828          10       188     Владимир Ударников         38   \n",
       "11      NLSJ-24436750          12       260    Ксения Балалайкина         75   \n",
       "12      OSTL-36241420          18       312  Маргарита Камертонова         76   \n",
       "13      QYZK-30462944          14       262  Маргарита Камертонова         68   \n",
       "14      RSBH-94158604          19       369    Екатерина Тарелкина         83   \n",
       "15      UUZR-48309816          16       283  Маргарита Камертонова         26   \n",
       "\n",
       "   order_id_confirmed  \n",
       "0       FDEB-71487438  \n",
       "1       UETB-44283966  \n",
       "2       IECD-18739530  \n",
       "3       WNMY-98871151  \n",
       "4       JUGG-73806170  \n",
       "5       EPBF-14743479  \n",
       "6       OWZC-14247946  \n",
       "7       GRCH-73394464  \n",
       "8       BCMM-97072924  \n",
       "9       NFML-87752700  \n",
       "10      IMND-92004620  \n",
       "11      GYTK-45256974  \n",
       "12      PPXL-64637862  \n",
       "13      HMXC-87726636  \n",
       "14      AUZX-12706022  \n",
       "15      FTPV-77865209  "
      ]
     },
     "execution_count": 38,
     "metadata": {},
     "output_type": "execute_result"
    }
   ],
   "source": [
    "merged_can13_con14"
   ]
  },
  {
   "cell_type": "markdown",
   "id": "7c5344c5",
   "metadata": {},
   "source": [
    "### 4) Расчет доли повторных заказов"
   ]
  },
  {
   "cell_type": "code",
   "execution_count": 39,
   "id": "e61dadc0",
   "metadata": {},
   "outputs": [
    {
     "name": "stdout",
     "output_type": "stream",
     "text": [
      "Число повторных заказов: 16\n",
      "Общее число подтвержденных заказов 14 марта: 34\n",
      "Доля заказов, повторяющих вчерашние: 47.06%\n"
     ]
    }
   ],
   "source": [
    "repeated_orders_count = len(merged_can13_con14)\n",
    "confirmed_orders_count = len(confirmed_agg_03_14)\n",
    "\n",
    "repeated_ratio = repeated_orders_count / confirmed_orders_count\n",
    "\n",
    "print(f\"Число повторных заказов: {repeated_orders_count}\")\n",
    "print(f\"Общее число подтвержденных заказов 14 марта: {confirmed_orders_count}\")\n",
    "print(f\"Доля заказов, повторяющих вчерашние: {repeated_ratio:.2%}\")\n"
   ]
  },
  {
   "cell_type": "markdown",
   "id": "e81a5f7c",
   "metadata": {},
   "source": [
    "Вывод:\n",
    "Наиболее правдоподобной выглядит вторая гипотеза — сбой CRM, потому что почти половина заказов повторяет вчерашние, что соответствует реальному сценарию с автоматической отменой и повторным оформлением"
   ]
  },
  {
   "cell_type": "markdown",
   "id": "985ca721",
   "metadata": {},
   "source": [
    "### Посчитаем ключевые метрики, посмотрим на их динамику и составим небольшой отчет"
   ]
  },
  {
   "cell_type": "markdown",
   "id": "1e6232c7",
   "metadata": {},
   "source": [
    "## Шаг 11"
   ]
  },
  {
   "cell_type": "markdown",
   "id": "6a367029",
   "metadata": {},
   "source": [
    "**У вас есть данные за целый месяц, поэтому пора посчитать ключевые метрики этого месяца.** Но вот незадача - в ваших данных цена единицы товара указана в долларах США, потому что закупаете их в долларах, но продаете товары за российские рубли (по тому курсу, который установил Центробанк на дату продажи), а значит и метрики требуется посчитать в рублях. Хорошо, что у вас есть текстовый файл с курсом доллара США на каждую дату. **Откройте файл `usd_rate.txt`, соберите из него датафрейм с 2 колонками: `date` и `currency_rate`. Посчитайте среднее значение курса доллара за месяц.** Результат округлите до двух знаков после точки."
   ]
  },
  {
   "cell_type": "code",
   "execution_count": 40,
   "id": "8d5916a2",
   "metadata": {},
   "outputs": [
    {
     "data": {
      "text/plain": [
       "['2024-03-01,90.8423,Доллар США\\n',\n",
       " '2024-03-02,91.3336,Доллар США\\n',\n",
       " '2024-03-03,91.3336,Доллар США\\n',\n",
       " '2024-03-04,91.3336,Доллар США\\n',\n",
       " '2024-03-05,91.3534,Доллар США\\n']"
      ]
     },
     "execution_count": 40,
     "metadata": {},
     "output_type": "execute_result"
    }
   ],
   "source": [
    "# Ваш код здесь\n",
    "with open('usd_rate.txt', 'r') as file:\n",
    "    currency = file.readlines()\n",
    "\n",
    "currency[:5]\n"
   ]
  },
  {
   "cell_type": "code",
   "execution_count": 41,
   "id": "d12a7002",
   "metadata": {},
   "outputs": [
    {
     "data": {
      "text/html": [
       "<div>\n",
       "<style scoped>\n",
       "    .dataframe tbody tr th:only-of-type {\n",
       "        vertical-align: middle;\n",
       "    }\n",
       "\n",
       "    .dataframe tbody tr th {\n",
       "        vertical-align: top;\n",
       "    }\n",
       "\n",
       "    .dataframe thead th {\n",
       "        text-align: right;\n",
       "    }\n",
       "</style>\n",
       "<table border=\"1\" class=\"dataframe\">\n",
       "  <thead>\n",
       "    <tr style=\"text-align: right;\">\n",
       "      <th></th>\n",
       "      <th>date</th>\n",
       "      <th>currency_rate</th>\n",
       "    </tr>\n",
       "  </thead>\n",
       "  <tbody>\n",
       "    <tr>\n",
       "      <th>0</th>\n",
       "      <td>2024-03-01</td>\n",
       "      <td>90.8423</td>\n",
       "    </tr>\n",
       "    <tr>\n",
       "      <th>1</th>\n",
       "      <td>2024-03-02</td>\n",
       "      <td>91.3336</td>\n",
       "    </tr>\n",
       "    <tr>\n",
       "      <th>2</th>\n",
       "      <td>2024-03-03</td>\n",
       "      <td>91.3336</td>\n",
       "    </tr>\n",
       "    <tr>\n",
       "      <th>3</th>\n",
       "      <td>2024-03-04</td>\n",
       "      <td>91.3336</td>\n",
       "    </tr>\n",
       "    <tr>\n",
       "      <th>4</th>\n",
       "      <td>2024-03-05</td>\n",
       "      <td>91.3534</td>\n",
       "    </tr>\n",
       "  </tbody>\n",
       "</table>\n",
       "</div>"
      ],
      "text/plain": [
       "         date currency_rate\n",
       "0  2024-03-01       90.8423\n",
       "1  2024-03-02       91.3336\n",
       "2  2024-03-03       91.3336\n",
       "3  2024-03-04       91.3336\n",
       "4  2024-03-05       91.3534"
      ]
     },
     "execution_count": 41,
     "metadata": {},
     "output_type": "execute_result"
    }
   ],
   "source": [
    "\n",
    "\n",
    "dates = []\n",
    "rates = []\n",
    "for line in currency:\n",
    "    line = line.strip()\n",
    "    parts = line.split(',')\n",
    "\n",
    "    dates.append(parts[0])\n",
    "    rates.append(parts[1])\n",
    "\n",
    "df_currency = pd.DataFrame({\n",
    "    'date': dates,\n",
    "    'currency_rate': rates\n",
    "})\n",
    "\n",
    "df_currency.head()"
   ]
  },
  {
   "cell_type": "code",
   "execution_count": 42,
   "id": "c0b3f15b",
   "metadata": {},
   "outputs": [
    {
     "data": {
      "text/plain": [
       "date             object\n",
       "currency_rate    object\n",
       "dtype: object"
      ]
     },
     "execution_count": 42,
     "metadata": {},
     "output_type": "execute_result"
    }
   ],
   "source": [
    "df_currency.dtypes"
   ]
  },
  {
   "cell_type": "code",
   "execution_count": 43,
   "id": "f50c17bd",
   "metadata": {},
   "outputs": [],
   "source": [
    "df_currency['date'] = pd.to_datetime(df_currency['date'])\n",
    "df_currency['currency_rate'] = df_currency['currency_rate'].astype(float)"
   ]
  },
  {
   "cell_type": "code",
   "execution_count": 44,
   "id": "437ca162",
   "metadata": {},
   "outputs": [
    {
     "data": {
      "text/plain": [
       "date             datetime64[ns]\n",
       "currency_rate           float64\n",
       "dtype: object"
      ]
     },
     "execution_count": 44,
     "metadata": {},
     "output_type": "execute_result"
    }
   ],
   "source": [
    "df_currency.dtypes"
   ]
  },
  {
   "cell_type": "code",
   "execution_count": 45,
   "id": "fd5118fb",
   "metadata": {},
   "outputs": [
    {
     "data": {
      "text/plain": [
       "np.float64(91.7)"
      ]
     },
     "execution_count": 45,
     "metadata": {},
     "output_type": "execute_result"
    }
   ],
   "source": [
    "round(df_currency.currency_rate.mean(), 2)"
   ]
  },
  {
   "cell_type": "markdown",
   "id": "58b316d0",
   "metadata": {},
   "source": [
    "## Шаг 12"
   ]
  },
  {
   "cell_type": "markdown",
   "id": "14492dd2",
   "metadata": {},
   "source": [
    "**Работу с ключевыми метриками начните с подсчета общей выручки.** Данные по товарам в подтвержденных заказах у вас есть в датафрейме `orders_status`, а стоимость одной единицы товара можно взять из датафрейма `df_products`. Объедините эти датафреймы в общий `df_full`, добавьте к ним информацию по курсу доллара на каждую дату. Создайте колонку с выручкой для каждого товара в заказах и посчитайте, **чему равна общая выручка в рублях?** Учитывайте только подтвержденные заказы. Результат округлите до двух знаков после точки."
   ]
  },
  {
   "cell_type": "code",
   "execution_count": 46,
   "id": "23fc9567",
   "metadata": {},
   "outputs": [],
   "source": [
    "df_full = pd.merge(orders_status, df_products, left_on='product_id', right_on='id')\n",
    "df_full = pd.merge(df_full, df_currency, on='date')\n"
   ]
  },
  {
   "cell_type": "code",
   "execution_count": 47,
   "id": "1d26e46e",
   "metadata": {},
   "outputs": [
    {
     "data": {
      "text/html": [
       "<div>\n",
       "<style scoped>\n",
       "    .dataframe tbody tr th:only-of-type {\n",
       "        vertical-align: middle;\n",
       "    }\n",
       "\n",
       "    .dataframe tbody tr th {\n",
       "        vertical-align: top;\n",
       "    }\n",
       "\n",
       "    .dataframe thead th {\n",
       "        text-align: right;\n",
       "    }\n",
       "</style>\n",
       "<table border=\"1\" class=\"dataframe\">\n",
       "  <thead>\n",
       "    <tr style=\"text-align: right;\">\n",
       "      <th></th>\n",
       "      <th>order_id</th>\n",
       "      <th>product_id</th>\n",
       "      <th>quantity</th>\n",
       "      <th>manager</th>\n",
       "      <th>date</th>\n",
       "      <th>client_id</th>\n",
       "      <th>status</th>\n",
       "      <th>id</th>\n",
       "      <th>name</th>\n",
       "      <th>price</th>\n",
       "      <th>category</th>\n",
       "      <th>currency_rate</th>\n",
       "    </tr>\n",
       "  </thead>\n",
       "  <tbody>\n",
       "    <tr>\n",
       "      <th>0</th>\n",
       "      <td>DUEU-27693834</td>\n",
       "      <td>933</td>\n",
       "      <td>7</td>\n",
       "      <td>Алексей Саксофонов</td>\n",
       "      <td>2024-03-01</td>\n",
       "      <td>14</td>\n",
       "      <td>confirmed</td>\n",
       "      <td>933</td>\n",
       "      <td>Magnat, MC 400</td>\n",
       "      <td>430.56</td>\n",
       "      <td>Система караоке</td>\n",
       "      <td>90.8423</td>\n",
       "    </tr>\n",
       "    <tr>\n",
       "      <th>1</th>\n",
       "      <td>DUEU-27693834</td>\n",
       "      <td>1645</td>\n",
       "      <td>36</td>\n",
       "      <td>Алексей Саксофонов</td>\n",
       "      <td>2024-03-01</td>\n",
       "      <td>14</td>\n",
       "      <td>confirmed</td>\n",
       "      <td>1645</td>\n",
       "      <td>Yamaha, HPH-50B</td>\n",
       "      <td>41.78</td>\n",
       "      <td>Проводные наушники</td>\n",
       "      <td>90.8423</td>\n",
       "    </tr>\n",
       "    <tr>\n",
       "      <th>2</th>\n",
       "      <td>DUEU-27693834</td>\n",
       "      <td>1596</td>\n",
       "      <td>40</td>\n",
       "      <td>Алексей Саксофонов</td>\n",
       "      <td>2024-03-01</td>\n",
       "      <td>14</td>\n",
       "      <td>confirmed</td>\n",
       "      <td>1596</td>\n",
       "      <td>Yamaha, YH-E700A</td>\n",
       "      <td>304.02</td>\n",
       "      <td>Беспроводные наушники</td>\n",
       "      <td>90.8423</td>\n",
       "    </tr>\n",
       "    <tr>\n",
       "      <th>3</th>\n",
       "      <td>DUEU-27693834</td>\n",
       "      <td>648</td>\n",
       "      <td>10</td>\n",
       "      <td>Алексей Саксофонов</td>\n",
       "      <td>2024-03-01</td>\n",
       "      <td>14</td>\n",
       "      <td>confirmed</td>\n",
       "      <td>648</td>\n",
       "      <td>JBL, Arena 125C</td>\n",
       "      <td>217.75</td>\n",
       "      <td>Центральный канал</td>\n",
       "      <td>90.8423</td>\n",
       "    </tr>\n",
       "    <tr>\n",
       "      <th>4</th>\n",
       "      <td>DUEU-27693834</td>\n",
       "      <td>1413</td>\n",
       "      <td>6</td>\n",
       "      <td>Алексей Саксофонов</td>\n",
       "      <td>2024-03-01</td>\n",
       "      <td>14</td>\n",
       "      <td>confirmed</td>\n",
       "      <td>1413</td>\n",
       "      <td>Singtrix, Home Karaoke System</td>\n",
       "      <td>315.88</td>\n",
       "      <td>Система караоке</td>\n",
       "      <td>90.8423</td>\n",
       "    </tr>\n",
       "  </tbody>\n",
       "</table>\n",
       "</div>"
      ],
      "text/plain": [
       "        order_id  product_id  quantity              manager       date  \\\n",
       "0  DUEU-27693834         933         7  Алексей Саксофонов 2024-03-01   \n",
       "1  DUEU-27693834        1645        36  Алексей Саксофонов 2024-03-01   \n",
       "2  DUEU-27693834        1596        40  Алексей Саксофонов 2024-03-01   \n",
       "3  DUEU-27693834         648        10  Алексей Саксофонов 2024-03-01   \n",
       "4  DUEU-27693834        1413         6  Алексей Саксофонов 2024-03-01   \n",
       "\n",
       "   client_id     status    id                           name   price  \\\n",
       "0         14  confirmed   933                 Magnat, MC 400  430.56   \n",
       "1         14  confirmed  1645                Yamaha, HPH-50B   41.78   \n",
       "2         14  confirmed  1596               Yamaha, YH-E700A  304.02   \n",
       "3         14  confirmed   648                JBL, Arena 125C  217.75   \n",
       "4         14  confirmed  1413  Singtrix, Home Karaoke System  315.88   \n",
       "\n",
       "                category  currency_rate  \n",
       "0        Система караоке        90.8423  \n",
       "1     Проводные наушники        90.8423  \n",
       "2  Беспроводные наушники        90.8423  \n",
       "3     Центральный канал        90.8423  \n",
       "4        Система караоке        90.8423  "
      ]
     },
     "execution_count": 47,
     "metadata": {},
     "output_type": "execute_result"
    }
   ],
   "source": [
    "df_full.head()"
   ]
  },
  {
   "cell_type": "code",
   "execution_count": 48,
   "id": "9521da1b",
   "metadata": {},
   "outputs": [],
   "source": [
    "df_full['price_rub'] = df_full['currency_rate'] * df_full['price']"
   ]
  },
  {
   "cell_type": "code",
   "execution_count": 49,
   "id": "f32ebec9",
   "metadata": {},
   "outputs": [
    {
     "data": {
      "text/html": [
       "<div>\n",
       "<style scoped>\n",
       "    .dataframe tbody tr th:only-of-type {\n",
       "        vertical-align: middle;\n",
       "    }\n",
       "\n",
       "    .dataframe tbody tr th {\n",
       "        vertical-align: top;\n",
       "    }\n",
       "\n",
       "    .dataframe thead th {\n",
       "        text-align: right;\n",
       "    }\n",
       "</style>\n",
       "<table border=\"1\" class=\"dataframe\">\n",
       "  <thead>\n",
       "    <tr style=\"text-align: right;\">\n",
       "      <th></th>\n",
       "      <th>order_id</th>\n",
       "      <th>product_id</th>\n",
       "      <th>quantity</th>\n",
       "      <th>manager</th>\n",
       "      <th>date</th>\n",
       "      <th>client_id</th>\n",
       "      <th>status</th>\n",
       "      <th>id</th>\n",
       "      <th>name</th>\n",
       "      <th>price</th>\n",
       "      <th>category</th>\n",
       "      <th>currency_rate</th>\n",
       "      <th>price_rub</th>\n",
       "    </tr>\n",
       "  </thead>\n",
       "  <tbody>\n",
       "    <tr>\n",
       "      <th>0</th>\n",
       "      <td>DUEU-27693834</td>\n",
       "      <td>933</td>\n",
       "      <td>7</td>\n",
       "      <td>Алексей Саксофонов</td>\n",
       "      <td>2024-03-01</td>\n",
       "      <td>14</td>\n",
       "      <td>confirmed</td>\n",
       "      <td>933</td>\n",
       "      <td>Magnat, MC 400</td>\n",
       "      <td>430.56</td>\n",
       "      <td>Система караоке</td>\n",
       "      <td>90.8423</td>\n",
       "      <td>39113.060688</td>\n",
       "    </tr>\n",
       "    <tr>\n",
       "      <th>1</th>\n",
       "      <td>DUEU-27693834</td>\n",
       "      <td>1645</td>\n",
       "      <td>36</td>\n",
       "      <td>Алексей Саксофонов</td>\n",
       "      <td>2024-03-01</td>\n",
       "      <td>14</td>\n",
       "      <td>confirmed</td>\n",
       "      <td>1645</td>\n",
       "      <td>Yamaha, HPH-50B</td>\n",
       "      <td>41.78</td>\n",
       "      <td>Проводные наушники</td>\n",
       "      <td>90.8423</td>\n",
       "      <td>3795.391294</td>\n",
       "    </tr>\n",
       "    <tr>\n",
       "      <th>2</th>\n",
       "      <td>DUEU-27693834</td>\n",
       "      <td>1596</td>\n",
       "      <td>40</td>\n",
       "      <td>Алексей Саксофонов</td>\n",
       "      <td>2024-03-01</td>\n",
       "      <td>14</td>\n",
       "      <td>confirmed</td>\n",
       "      <td>1596</td>\n",
       "      <td>Yamaha, YH-E700A</td>\n",
       "      <td>304.02</td>\n",
       "      <td>Беспроводные наушники</td>\n",
       "      <td>90.8423</td>\n",
       "      <td>27617.876046</td>\n",
       "    </tr>\n",
       "    <tr>\n",
       "      <th>3</th>\n",
       "      <td>DUEU-27693834</td>\n",
       "      <td>648</td>\n",
       "      <td>10</td>\n",
       "      <td>Алексей Саксофонов</td>\n",
       "      <td>2024-03-01</td>\n",
       "      <td>14</td>\n",
       "      <td>confirmed</td>\n",
       "      <td>648</td>\n",
       "      <td>JBL, Arena 125C</td>\n",
       "      <td>217.75</td>\n",
       "      <td>Центральный канал</td>\n",
       "      <td>90.8423</td>\n",
       "      <td>19780.910825</td>\n",
       "    </tr>\n",
       "    <tr>\n",
       "      <th>4</th>\n",
       "      <td>DUEU-27693834</td>\n",
       "      <td>1413</td>\n",
       "      <td>6</td>\n",
       "      <td>Алексей Саксофонов</td>\n",
       "      <td>2024-03-01</td>\n",
       "      <td>14</td>\n",
       "      <td>confirmed</td>\n",
       "      <td>1413</td>\n",
       "      <td>Singtrix, Home Karaoke System</td>\n",
       "      <td>315.88</td>\n",
       "      <td>Система караоке</td>\n",
       "      <td>90.8423</td>\n",
       "      <td>28695.265724</td>\n",
       "    </tr>\n",
       "  </tbody>\n",
       "</table>\n",
       "</div>"
      ],
      "text/plain": [
       "        order_id  product_id  quantity              manager       date  \\\n",
       "0  DUEU-27693834         933         7  Алексей Саксофонов 2024-03-01   \n",
       "1  DUEU-27693834        1645        36  Алексей Саксофонов 2024-03-01   \n",
       "2  DUEU-27693834        1596        40  Алексей Саксофонов 2024-03-01   \n",
       "3  DUEU-27693834         648        10  Алексей Саксофонов 2024-03-01   \n",
       "4  DUEU-27693834        1413         6  Алексей Саксофонов 2024-03-01   \n",
       "\n",
       "   client_id     status    id                           name   price  \\\n",
       "0         14  confirmed   933                 Magnat, MC 400  430.56   \n",
       "1         14  confirmed  1645                Yamaha, HPH-50B   41.78   \n",
       "2         14  confirmed  1596               Yamaha, YH-E700A  304.02   \n",
       "3         14  confirmed   648                JBL, Arena 125C  217.75   \n",
       "4         14  confirmed  1413  Singtrix, Home Karaoke System  315.88   \n",
       "\n",
       "                category  currency_rate     price_rub  \n",
       "0        Система караоке        90.8423  39113.060688  \n",
       "1     Проводные наушники        90.8423   3795.391294  \n",
       "2  Беспроводные наушники        90.8423  27617.876046  \n",
       "3     Центральный канал        90.8423  19780.910825  \n",
       "4        Система караоке        90.8423  28695.265724  "
      ]
     },
     "execution_count": 49,
     "metadata": {},
     "output_type": "execute_result"
    }
   ],
   "source": [
    "df_full.head()"
   ]
  },
  {
   "cell_type": "code",
   "execution_count": 50,
   "id": "a8069721",
   "metadata": {},
   "outputs": [],
   "source": [
    "df_full['revenue'] = df_full['price_rub'] * df_full['quantity']"
   ]
  },
  {
   "cell_type": "code",
   "execution_count": 51,
   "id": "ea988c6b",
   "metadata": {},
   "outputs": [
    {
     "data": {
      "text/html": [
       "<div>\n",
       "<style scoped>\n",
       "    .dataframe tbody tr th:only-of-type {\n",
       "        vertical-align: middle;\n",
       "    }\n",
       "\n",
       "    .dataframe tbody tr th {\n",
       "        vertical-align: top;\n",
       "    }\n",
       "\n",
       "    .dataframe thead th {\n",
       "        text-align: right;\n",
       "    }\n",
       "</style>\n",
       "<table border=\"1\" class=\"dataframe\">\n",
       "  <thead>\n",
       "    <tr style=\"text-align: right;\">\n",
       "      <th></th>\n",
       "      <th>order_id</th>\n",
       "      <th>product_id</th>\n",
       "      <th>quantity</th>\n",
       "      <th>manager</th>\n",
       "      <th>date</th>\n",
       "      <th>client_id</th>\n",
       "      <th>status</th>\n",
       "      <th>id</th>\n",
       "      <th>name</th>\n",
       "      <th>price</th>\n",
       "      <th>category</th>\n",
       "      <th>currency_rate</th>\n",
       "      <th>price_rub</th>\n",
       "      <th>revenue</th>\n",
       "    </tr>\n",
       "  </thead>\n",
       "  <tbody>\n",
       "    <tr>\n",
       "      <th>0</th>\n",
       "      <td>DUEU-27693834</td>\n",
       "      <td>933</td>\n",
       "      <td>7</td>\n",
       "      <td>Алексей Саксофонов</td>\n",
       "      <td>2024-03-01</td>\n",
       "      <td>14</td>\n",
       "      <td>confirmed</td>\n",
       "      <td>933</td>\n",
       "      <td>Magnat, MC 400</td>\n",
       "      <td>430.56</td>\n",
       "      <td>Система караоке</td>\n",
       "      <td>90.8423</td>\n",
       "      <td>39113.060688</td>\n",
       "      <td>2.737914e+05</td>\n",
       "    </tr>\n",
       "    <tr>\n",
       "      <th>1</th>\n",
       "      <td>DUEU-27693834</td>\n",
       "      <td>1645</td>\n",
       "      <td>36</td>\n",
       "      <td>Алексей Саксофонов</td>\n",
       "      <td>2024-03-01</td>\n",
       "      <td>14</td>\n",
       "      <td>confirmed</td>\n",
       "      <td>1645</td>\n",
       "      <td>Yamaha, HPH-50B</td>\n",
       "      <td>41.78</td>\n",
       "      <td>Проводные наушники</td>\n",
       "      <td>90.8423</td>\n",
       "      <td>3795.391294</td>\n",
       "      <td>1.366341e+05</td>\n",
       "    </tr>\n",
       "    <tr>\n",
       "      <th>2</th>\n",
       "      <td>DUEU-27693834</td>\n",
       "      <td>1596</td>\n",
       "      <td>40</td>\n",
       "      <td>Алексей Саксофонов</td>\n",
       "      <td>2024-03-01</td>\n",
       "      <td>14</td>\n",
       "      <td>confirmed</td>\n",
       "      <td>1596</td>\n",
       "      <td>Yamaha, YH-E700A</td>\n",
       "      <td>304.02</td>\n",
       "      <td>Беспроводные наушники</td>\n",
       "      <td>90.8423</td>\n",
       "      <td>27617.876046</td>\n",
       "      <td>1.104715e+06</td>\n",
       "    </tr>\n",
       "    <tr>\n",
       "      <th>3</th>\n",
       "      <td>DUEU-27693834</td>\n",
       "      <td>648</td>\n",
       "      <td>10</td>\n",
       "      <td>Алексей Саксофонов</td>\n",
       "      <td>2024-03-01</td>\n",
       "      <td>14</td>\n",
       "      <td>confirmed</td>\n",
       "      <td>648</td>\n",
       "      <td>JBL, Arena 125C</td>\n",
       "      <td>217.75</td>\n",
       "      <td>Центральный канал</td>\n",
       "      <td>90.8423</td>\n",
       "      <td>19780.910825</td>\n",
       "      <td>1.978091e+05</td>\n",
       "    </tr>\n",
       "    <tr>\n",
       "      <th>4</th>\n",
       "      <td>DUEU-27693834</td>\n",
       "      <td>1413</td>\n",
       "      <td>6</td>\n",
       "      <td>Алексей Саксофонов</td>\n",
       "      <td>2024-03-01</td>\n",
       "      <td>14</td>\n",
       "      <td>confirmed</td>\n",
       "      <td>1413</td>\n",
       "      <td>Singtrix, Home Karaoke System</td>\n",
       "      <td>315.88</td>\n",
       "      <td>Система караоке</td>\n",
       "      <td>90.8423</td>\n",
       "      <td>28695.265724</td>\n",
       "      <td>1.721716e+05</td>\n",
       "    </tr>\n",
       "    <tr>\n",
       "      <th>...</th>\n",
       "      <td>...</td>\n",
       "      <td>...</td>\n",
       "      <td>...</td>\n",
       "      <td>...</td>\n",
       "      <td>...</td>\n",
       "      <td>...</td>\n",
       "      <td>...</td>\n",
       "      <td>...</td>\n",
       "      <td>...</td>\n",
       "      <td>...</td>\n",
       "      <td>...</td>\n",
       "      <td>...</td>\n",
       "      <td>...</td>\n",
       "      <td>...</td>\n",
       "    </tr>\n",
       "    <tr>\n",
       "      <th>4598</th>\n",
       "      <td>OYBY-86181208</td>\n",
       "      <td>1575</td>\n",
       "      <td>3</td>\n",
       "      <td>Анастасия Дудкина</td>\n",
       "      <td>2024-03-31</td>\n",
       "      <td>11</td>\n",
       "      <td>confirmed</td>\n",
       "      <td>1575</td>\n",
       "      <td>Yamaha, RX-A3080</td>\n",
       "      <td>1935.70</td>\n",
       "      <td>AV-ресивер</td>\n",
       "      <td>92.3660</td>\n",
       "      <td>178792.866200</td>\n",
       "      <td>5.363786e+05</td>\n",
       "    </tr>\n",
       "    <tr>\n",
       "      <th>4599</th>\n",
       "      <td>OYBY-86181208</td>\n",
       "      <td>941</td>\n",
       "      <td>11</td>\n",
       "      <td>Анастасия Дудкина</td>\n",
       "      <td>2024-03-31</td>\n",
       "      <td>11</td>\n",
       "      <td>confirmed</td>\n",
       "      <td>941</td>\n",
       "      <td>Magnat, Monitor Supreme Center 200</td>\n",
       "      <td>87.27</td>\n",
       "      <td>Центральный канал</td>\n",
       "      <td>92.3660</td>\n",
       "      <td>8060.780820</td>\n",
       "      <td>8.866859e+04</td>\n",
       "    </tr>\n",
       "    <tr>\n",
       "      <th>4600</th>\n",
       "      <td>OYBY-86181208</td>\n",
       "      <td>1335</td>\n",
       "      <td>22</td>\n",
       "      <td>Анастасия Дудкина</td>\n",
       "      <td>2024-03-31</td>\n",
       "      <td>11</td>\n",
       "      <td>confirmed</td>\n",
       "      <td>1335</td>\n",
       "      <td>Sennheiser, e 835</td>\n",
       "      <td>85.56</td>\n",
       "      <td>Динамический микрофон</td>\n",
       "      <td>92.3660</td>\n",
       "      <td>7902.834960</td>\n",
       "      <td>1.738624e+05</td>\n",
       "    </tr>\n",
       "    <tr>\n",
       "      <th>4601</th>\n",
       "      <td>OYBY-86181208</td>\n",
       "      <td>296</td>\n",
       "      <td>22</td>\n",
       "      <td>Анастасия Дудкина</td>\n",
       "      <td>2024-03-31</td>\n",
       "      <td>11</td>\n",
       "      <td>confirmed</td>\n",
       "      <td>296</td>\n",
       "      <td>Edifier, K800</td>\n",
       "      <td>36.08</td>\n",
       "      <td>Наушники с микрофоном</td>\n",
       "      <td>92.3660</td>\n",
       "      <td>3332.565280</td>\n",
       "      <td>7.331644e+04</td>\n",
       "    </tr>\n",
       "    <tr>\n",
       "      <th>4602</th>\n",
       "      <td>OYBY-86181208</td>\n",
       "      <td>446</td>\n",
       "      <td>2</td>\n",
       "      <td>Анастасия Дудкина</td>\n",
       "      <td>2024-03-31</td>\n",
       "      <td>11</td>\n",
       "      <td>confirmed</td>\n",
       "      <td>446</td>\n",
       "      <td>Heco, Avorio 500</td>\n",
       "      <td>504.26</td>\n",
       "      <td>AV-ресивер</td>\n",
       "      <td>92.3660</td>\n",
       "      <td>46576.479160</td>\n",
       "      <td>9.315296e+04</td>\n",
       "    </tr>\n",
       "  </tbody>\n",
       "</table>\n",
       "<p>4603 rows × 14 columns</p>\n",
       "</div>"
      ],
      "text/plain": [
       "           order_id  product_id  quantity              manager       date  \\\n",
       "0     DUEU-27693834         933         7  Алексей Саксофонов 2024-03-01   \n",
       "1     DUEU-27693834        1645        36  Алексей Саксофонов 2024-03-01   \n",
       "2     DUEU-27693834        1596        40  Алексей Саксофонов 2024-03-01   \n",
       "3     DUEU-27693834         648        10  Алексей Саксофонов 2024-03-01   \n",
       "4     DUEU-27693834        1413         6  Алексей Саксофонов 2024-03-01   \n",
       "...             ...         ...       ...                  ...        ...   \n",
       "4598  OYBY-86181208        1575         3    Анастасия Дудкина 2024-03-31   \n",
       "4599  OYBY-86181208         941        11    Анастасия Дудкина 2024-03-31   \n",
       "4600  OYBY-86181208        1335        22    Анастасия Дудкина 2024-03-31   \n",
       "4601  OYBY-86181208         296        22    Анастасия Дудкина 2024-03-31   \n",
       "4602  OYBY-86181208         446         2    Анастасия Дудкина 2024-03-31   \n",
       "\n",
       "      client_id     status    id                                name    price  \\\n",
       "0            14  confirmed   933                      Magnat, MC 400   430.56   \n",
       "1            14  confirmed  1645                     Yamaha, HPH-50B    41.78   \n",
       "2            14  confirmed  1596                    Yamaha, YH-E700A   304.02   \n",
       "3            14  confirmed   648                     JBL, Arena 125C   217.75   \n",
       "4            14  confirmed  1413       Singtrix, Home Karaoke System   315.88   \n",
       "...         ...        ...   ...                                 ...      ...   \n",
       "4598         11  confirmed  1575                    Yamaha, RX-A3080  1935.70   \n",
       "4599         11  confirmed   941  Magnat, Monitor Supreme Center 200    87.27   \n",
       "4600         11  confirmed  1335                   Sennheiser, e 835    85.56   \n",
       "4601         11  confirmed   296                       Edifier, K800    36.08   \n",
       "4602         11  confirmed   446                    Heco, Avorio 500   504.26   \n",
       "\n",
       "                    category  currency_rate      price_rub       revenue  \n",
       "0            Система караоке        90.8423   39113.060688  2.737914e+05  \n",
       "1         Проводные наушники        90.8423    3795.391294  1.366341e+05  \n",
       "2      Беспроводные наушники        90.8423   27617.876046  1.104715e+06  \n",
       "3         Центральный канал        90.8423   19780.910825  1.978091e+05  \n",
       "4            Система караоке        90.8423   28695.265724  1.721716e+05  \n",
       "...                      ...            ...            ...           ...  \n",
       "4598              AV-ресивер        92.3660  178792.866200  5.363786e+05  \n",
       "4599      Центральный канал        92.3660    8060.780820  8.866859e+04  \n",
       "4600  Динамический микрофон        92.3660    7902.834960  1.738624e+05  \n",
       "4601   Наушники с микрофоном        92.3660    3332.565280  7.331644e+04  \n",
       "4602              AV-ресивер        92.3660   46576.479160  9.315296e+04  \n",
       "\n",
       "[4603 rows x 14 columns]"
      ]
     },
     "execution_count": 51,
     "metadata": {},
     "output_type": "execute_result"
    }
   ],
   "source": [
    "df_full"
   ]
  },
  {
   "cell_type": "code",
   "execution_count": 52,
   "id": "ca5cc44e",
   "metadata": {},
   "outputs": [],
   "source": [
    "df_confirmed = df_full.query('status == \"confirmed\"').copy()"
   ]
  },
  {
   "cell_type": "code",
   "execution_count": 53,
   "id": "744bacda",
   "metadata": {},
   "outputs": [],
   "source": [
    "total_revenue = df_confirmed['revenue'].sum()"
   ]
  },
  {
   "cell_type": "code",
   "execution_count": 54,
   "id": "06379857",
   "metadata": {},
   "outputs": [
    {
     "data": {
      "text/plain": [
       "'Общая выручка: 2_038_231_821.56 руб.'"
      ]
     },
     "execution_count": 54,
     "metadata": {},
     "output_type": "execute_result"
    }
   ],
   "source": [
    "f\"Общая выручка: {round(total_revenue, 2):_} руб.\""
   ]
  },
  {
   "cell_type": "markdown",
   "id": "5435f3f0",
   "metadata": {},
   "source": [
    "## Шаг 13"
   ]
  },
  {
   "cell_type": "markdown",
   "id": "6b32bede",
   "metadata": {},
   "source": [
    "**Следующая метрика, которую вам нужно посчитать — средний чек в этом месяце (в рублях).** Разделите общую выручку на количество заказов. Результат округлите до двух знаков после точки."
   ]
  },
  {
   "cell_type": "markdown",
   "id": "bed93b51",
   "metadata": {},
   "source": [
    "<details>\n",
    "<summary>&#9658; Нажмите сюда, чтобы увидеть подсказку</summary>\n",
    "  <p>\n",
    "      \n",
    "1) Посчитайте число уникальных подтвержденных заказов.\n",
    "\n",
    "2) Разделите сумму выручки, посчитанную на прошлом шаге (без округления), на это число.\n",
    "\n",
    "3) Результат округлите до двух знаков после точки.  \n",
    "      \n",
    "</p>\n",
    "</details>"
   ]
  },
  {
   "cell_type": "code",
   "execution_count": 55,
   "id": "33754fc0",
   "metadata": {},
   "outputs": [
    {
     "name": "stdout",
     "output_type": "stream",
     "text": [
      "6596219.49\n"
     ]
    }
   ],
   "source": [
    "unique_confirmed_orders = df_confirmed['order_id'].nunique()\n",
    "avg_check = total_revenue / unique_confirmed_orders\n",
    "\n",
    "print(round(avg_check, 2))"
   ]
  },
  {
   "cell_type": "markdown",
   "id": "7141b2f0",
   "metadata": {},
   "source": [
    "## Шаг 14"
   ]
  },
  {
   "cell_type": "markdown",
   "id": "1350dc80",
   "metadata": {},
   "source": [
    "Ключевые метрики месяца вы посчитали, теперь попробуйте посмотреть на их динамику внутри месяца: посчитайте выручку, средний чек и число заказов — на каждый день. Посмотрите на графики и выберите верные ответы:\n",
    "\n",
    "- число заказов и выручка каждый день изменяются в одинаковом направлении (если в этот день число заказов выросло, то и выручка выросла; число заказов упало — в этот же день упала и выручка)  \n",
    "- число заказов и выручка не каждый день изменяются в одинаковом направлении (если в какой-то день число заказов выросло, то выручка может упасть, и наоборот: число заказов упало — в этот же день выручка выросла)  \n",
    "- средний чек и выручка каждый день изменяются в одинаковом направлении (если в этот день средний чек вырос, то и выручка выросла; средний чек упал — в этот же день упала и выручка)  \n",
    "- средний чек и выручка не каждый день изменяются в одинаковом направлении (если в какой-то день средний чек вырос, то выручка может упасть, и наоборот: средний чек упал — в этот же день выручка выросла)  \n",
    "- в день с наибольшим числом заказов и выручка, и средний чек также показывают максимальное значение  \n",
    "- в день с наибольшим числом заказов выручка и/или средний чек не показывают максимальное значение  \n",
    "- с течением времени выручка то увеличивается, то уменьшается  \n",
    "- с течением времени выручка только увеличивается  \n",
    "- на протяжении всего месяца средний чек то увеличивается, то уменьшается  \n",
    "- средний чек на протяжении всего месяца имеет одинаковое значение"
   ]
  },
  {
   "cell_type": "code",
   "execution_count": 56,
   "id": "6ecef210",
   "metadata": {},
   "outputs": [],
   "source": [
    "df_report_by_date = df_confirmed.groupby('date', as_index=False).agg(\n",
    "    revenue=('revenue', 'sum'),\n",
    "    orders=('order_id', 'count')\n",
    ")\n",
    "\n",
    "df_report_by_date['avg_check'] = (df_report_by_date['revenue'] / df_report_by_date['orders']).round(2)"
   ]
  },
  {
   "cell_type": "code",
   "execution_count": 57,
   "id": "440389bd",
   "metadata": {},
   "outputs": [
    {
     "data": {
      "text/html": [
       "<div>\n",
       "<style scoped>\n",
       "    .dataframe tbody tr th:only-of-type {\n",
       "        vertical-align: middle;\n",
       "    }\n",
       "\n",
       "    .dataframe tbody tr th {\n",
       "        vertical-align: top;\n",
       "    }\n",
       "\n",
       "    .dataframe thead th {\n",
       "        text-align: right;\n",
       "    }\n",
       "</style>\n",
       "<table border=\"1\" class=\"dataframe\">\n",
       "  <thead>\n",
       "    <tr style=\"text-align: right;\">\n",
       "      <th></th>\n",
       "      <th>date</th>\n",
       "      <th>revenue</th>\n",
       "      <th>orders</th>\n",
       "      <th>avg_check</th>\n",
       "    </tr>\n",
       "  </thead>\n",
       "  <tbody>\n",
       "    <tr>\n",
       "      <th>0</th>\n",
       "      <td>2024-03-01</td>\n",
       "      <td>1.554118e+08</td>\n",
       "      <td>273</td>\n",
       "      <td>569273.83</td>\n",
       "    </tr>\n",
       "    <tr>\n",
       "      <th>1</th>\n",
       "      <td>2024-03-02</td>\n",
       "      <td>1.197167e+07</td>\n",
       "      <td>30</td>\n",
       "      <td>399055.62</td>\n",
       "    </tr>\n",
       "    <tr>\n",
       "      <th>2</th>\n",
       "      <td>2024-03-03</td>\n",
       "      <td>2.548418e+06</td>\n",
       "      <td>8</td>\n",
       "      <td>318552.30</td>\n",
       "    </tr>\n",
       "    <tr>\n",
       "      <th>3</th>\n",
       "      <td>2024-03-04</td>\n",
       "      <td>6.404993e+07</td>\n",
       "      <td>143</td>\n",
       "      <td>447901.58</td>\n",
       "    </tr>\n",
       "    <tr>\n",
       "      <th>4</th>\n",
       "      <td>2024-03-05</td>\n",
       "      <td>8.952724e+07</td>\n",
       "      <td>222</td>\n",
       "      <td>403275.85</td>\n",
       "    </tr>\n",
       "  </tbody>\n",
       "</table>\n",
       "</div>"
      ],
      "text/plain": [
       "        date       revenue  orders  avg_check\n",
       "0 2024-03-01  1.554118e+08     273  569273.83\n",
       "1 2024-03-02  1.197167e+07      30  399055.62\n",
       "2 2024-03-03  2.548418e+06       8  318552.30\n",
       "3 2024-03-04  6.404993e+07     143  447901.58\n",
       "4 2024-03-05  8.952724e+07     222  403275.85"
      ]
     },
     "execution_count": 57,
     "metadata": {},
     "output_type": "execute_result"
    }
   ],
   "source": [
    "df_report_by_date.head()"
   ]
  },
  {
   "cell_type": "code",
   "execution_count": 58,
   "id": "6a4081f8",
   "metadata": {},
   "outputs": [
    {
     "data": {
      "image/png": "[encoded data removed]",
      "text/plain": [
       "<Figure size 1200x1200 with 3 Axes>"
      ]
     },
     "metadata": {},
     "output_type": "display_data"
    }
   ],
   "source": [
    "# Настройка стиля графиков\n",
    "plt.style.use('default')\n",
    "fig, axes = plt.subplots(3, 1, figsize=(12, 12))\n",
    "\n",
    "# График 1: Выручка по дням\n",
    "axes[0].plot(df_report_by_date['date'], df_report_by_date['revenue'], \n",
    "             marker='o', linewidth=2, markersize=4, color='#2E8B57')\n",
    "axes[0].set_title('Ежедневная выручка', fontsize=14, fontweight='bold')\n",
    "axes[0].set_ylabel('Выручка, руб.', fontsize=12)\n",
    "axes[0].grid(True, alpha=0.3)\n",
    "axes[0].ticklabel_format(style='plain', axis='y')  # убираем научную нотацию\n",
    "\n",
    "# График 2: Количество заказов по дням\n",
    "axes[1].plot(df_report_by_date['date'], df_report_by_date['orders'], \n",
    "             marker='s', linewidth=2, markersize=4, color='#FF6B35')\n",
    "axes[1].set_title('Количество заказов по дням', fontsize=14, fontweight='bold')\n",
    "axes[1].set_ylabel('Количество заказов', fontsize=12)\n",
    "axes[1].grid(True, alpha=0.3)\n",
    "\n",
    "# График 3: Средний чек по дням\n",
    "axes[2].plot(df_report_by_date['date'], df_report_by_date['avg_check'], \n",
    "             marker='^', linewidth=2, markersize=4, color='#4A90E2')\n",
    "axes[2].set_title('Средний чек по дням', fontsize=14, fontweight='bold')\n",
    "axes[2].set_ylabel('Средний чек, руб.', fontsize=12)\n",
    "axes[2].set_xlabel('Дата', fontsize=12)\n",
    "axes[2].grid(True, alpha=0.3)\n",
    "\n",
    "plt.tight_layout()\n",
    "plt.show()"
   ]
  },
  {
   "cell_type": "markdown",
   "id": "554bbdde",
   "metadata": {},
   "source": [
    "### Вывод:\n",
    "\n",
    "    ✅ Число заказов и выручка не каждый день изменяются в одинаковом направлении (если в какой-то день число заказов выросло, то выручка может упасть, и наоборот: число заказов упало — в этот же день выручка выросла)\n",
    "    ✅ Средний чек и выручка не каждый день изменяются в одинаковом направлении (если в какой-то день средний чек вырос, то выручка может упасть, и наоборот: средний чек упал — в этот же день выручка выросла)\n",
    "    ✅ В день с наибольшим числом заказов выручка и/или средний чек не показывают максимальное значение\n",
    "    ✅ С течением времени выручка то увеличивается, то уменьшается\n",
    "    ✅ На протяжении всего месяца средний чек то увеличивается, то уменьшается"
   ]
  },
  {
   "cell_type": "markdown",
   "id": "12734772",
   "metadata": {},
   "source": [
    "### Проанализируем интерес клиентов к брендам"
   ]
  },
  {
   "cell_type": "markdown",
   "id": "bb39d4f2",
   "metadata": {},
   "source": [
    "## Шаг 15"
   ]
  },
  {
   "cell_type": "markdown",
   "id": "775a2621",
   "metadata": {},
   "source": [
    "К вам снова обратился руководитель отдела продаж. Он хочет разобраться, какие бренды востребованы среди клиентов, а какие — нет. На основе данных о названиях товаров в датафрейме `df_full` создайте новую колонку `brand`, где будет только название бренда. **Посчитайте, сколькими брендами интересовались клиенты** (статус заказа здесь не важен, если запись о бренде попала в данные о заказах, значит клиент заказал или хотел заказать товар этого бренда)."
   ]
  },
  {
   "cell_type": "markdown",
   "id": "f9fd1622",
   "metadata": {},
   "source": [
    "<details>\n",
    "<summary>&#9658; Нажмите сюда, чтобы увидеть подсказку</summary>\n",
    "  <p>\n",
    "      \n",
    "1) В датафрейме `df_full` создайте новую колонку `brand`, в которую поместите только названия брендов. Для этого разделите значения в колонке name и возьмите первое из них (сначала идет бренд и через запятую модель товара).\n",
    "\n",
    "2) Посчитайте количество уникальных значений в колонке `brand`.\n",
    "      \n",
    "</p>\n",
    "</details>"
   ]
  },
  {
   "cell_type": "code",
   "execution_count": 59,
   "id": "c3216ba9",
   "metadata": {},
   "outputs": [],
   "source": [
    "df_full['brand'] = df_full.name.apply(lambda x: x.split(',')[0])"
   ]
  },
  {
   "cell_type": "code",
   "execution_count": 60,
   "id": "bdef7d27",
   "metadata": {},
   "outputs": [
    {
     "data": {
      "text/html": [
       "<div>\n",
       "<style scoped>\n",
       "    .dataframe tbody tr th:only-of-type {\n",
       "        vertical-align: middle;\n",
       "    }\n",
       "\n",
       "    .dataframe tbody tr th {\n",
       "        vertical-align: top;\n",
       "    }\n",
       "\n",
       "    .dataframe thead th {\n",
       "        text-align: right;\n",
       "    }\n",
       "</style>\n",
       "<table border=\"1\" class=\"dataframe\">\n",
       "  <thead>\n",
       "    <tr style=\"text-align: right;\">\n",
       "      <th></th>\n",
       "      <th>order_id</th>\n",
       "      <th>product_id</th>\n",
       "      <th>quantity</th>\n",
       "      <th>manager</th>\n",
       "      <th>date</th>\n",
       "      <th>client_id</th>\n",
       "      <th>status</th>\n",
       "      <th>id</th>\n",
       "      <th>name</th>\n",
       "      <th>price</th>\n",
       "      <th>category</th>\n",
       "      <th>currency_rate</th>\n",
       "      <th>price_rub</th>\n",
       "      <th>revenue</th>\n",
       "      <th>brand</th>\n",
       "    </tr>\n",
       "  </thead>\n",
       "  <tbody>\n",
       "    <tr>\n",
       "      <th>0</th>\n",
       "      <td>DUEU-27693834</td>\n",
       "      <td>933</td>\n",
       "      <td>7</td>\n",
       "      <td>Алексей Саксофонов</td>\n",
       "      <td>2024-03-01</td>\n",
       "      <td>14</td>\n",
       "      <td>confirmed</td>\n",
       "      <td>933</td>\n",
       "      <td>Magnat, MC 400</td>\n",
       "      <td>430.56</td>\n",
       "      <td>Система караоке</td>\n",
       "      <td>90.8423</td>\n",
       "      <td>39113.060688</td>\n",
       "      <td>2.737914e+05</td>\n",
       "      <td>Magnat</td>\n",
       "    </tr>\n",
       "    <tr>\n",
       "      <th>1</th>\n",
       "      <td>DUEU-27693834</td>\n",
       "      <td>1645</td>\n",
       "      <td>36</td>\n",
       "      <td>Алексей Саксофонов</td>\n",
       "      <td>2024-03-01</td>\n",
       "      <td>14</td>\n",
       "      <td>confirmed</td>\n",
       "      <td>1645</td>\n",
       "      <td>Yamaha, HPH-50B</td>\n",
       "      <td>41.78</td>\n",
       "      <td>Проводные наушники</td>\n",
       "      <td>90.8423</td>\n",
       "      <td>3795.391294</td>\n",
       "      <td>1.366341e+05</td>\n",
       "      <td>Yamaha</td>\n",
       "    </tr>\n",
       "    <tr>\n",
       "      <th>2</th>\n",
       "      <td>DUEU-27693834</td>\n",
       "      <td>1596</td>\n",
       "      <td>40</td>\n",
       "      <td>Алексей Саксофонов</td>\n",
       "      <td>2024-03-01</td>\n",
       "      <td>14</td>\n",
       "      <td>confirmed</td>\n",
       "      <td>1596</td>\n",
       "      <td>Yamaha, YH-E700A</td>\n",
       "      <td>304.02</td>\n",
       "      <td>Беспроводные наушники</td>\n",
       "      <td>90.8423</td>\n",
       "      <td>27617.876046</td>\n",
       "      <td>1.104715e+06</td>\n",
       "      <td>Yamaha</td>\n",
       "    </tr>\n",
       "    <tr>\n",
       "      <th>3</th>\n",
       "      <td>DUEU-27693834</td>\n",
       "      <td>648</td>\n",
       "      <td>10</td>\n",
       "      <td>Алексей Саксофонов</td>\n",
       "      <td>2024-03-01</td>\n",
       "      <td>14</td>\n",
       "      <td>confirmed</td>\n",
       "      <td>648</td>\n",
       "      <td>JBL, Arena 125C</td>\n",
       "      <td>217.75</td>\n",
       "      <td>Центральный канал</td>\n",
       "      <td>90.8423</td>\n",
       "      <td>19780.910825</td>\n",
       "      <td>1.978091e+05</td>\n",
       "      <td>JBL</td>\n",
       "    </tr>\n",
       "    <tr>\n",
       "      <th>4</th>\n",
       "      <td>DUEU-27693834</td>\n",
       "      <td>1413</td>\n",
       "      <td>6</td>\n",
       "      <td>Алексей Саксофонов</td>\n",
       "      <td>2024-03-01</td>\n",
       "      <td>14</td>\n",
       "      <td>confirmed</td>\n",
       "      <td>1413</td>\n",
       "      <td>Singtrix, Home Karaoke System</td>\n",
       "      <td>315.88</td>\n",
       "      <td>Система караоке</td>\n",
       "      <td>90.8423</td>\n",
       "      <td>28695.265724</td>\n",
       "      <td>1.721716e+05</td>\n",
       "      <td>Singtrix</td>\n",
       "    </tr>\n",
       "  </tbody>\n",
       "</table>\n",
       "</div>"
      ],
      "text/plain": [
       "        order_id  product_id  quantity              manager       date  \\\n",
       "0  DUEU-27693834         933         7  Алексей Саксофонов 2024-03-01   \n",
       "1  DUEU-27693834        1645        36  Алексей Саксофонов 2024-03-01   \n",
       "2  DUEU-27693834        1596        40  Алексей Саксофонов 2024-03-01   \n",
       "3  DUEU-27693834         648        10  Алексей Саксофонов 2024-03-01   \n",
       "4  DUEU-27693834        1413         6  Алексей Саксофонов 2024-03-01   \n",
       "\n",
       "   client_id     status    id                           name   price  \\\n",
       "0         14  confirmed   933                 Magnat, MC 400  430.56   \n",
       "1         14  confirmed  1645                Yamaha, HPH-50B   41.78   \n",
       "2         14  confirmed  1596               Yamaha, YH-E700A  304.02   \n",
       "3         14  confirmed   648                JBL, Arena 125C  217.75   \n",
       "4         14  confirmed  1413  Singtrix, Home Karaoke System  315.88   \n",
       "\n",
       "                category  currency_rate     price_rub       revenue     brand  \n",
       "0        Система караоке        90.8423  39113.060688  2.737914e+05    Magnat  \n",
       "1     Проводные наушники        90.8423   3795.391294  1.366341e+05    Yamaha  \n",
       "2  Беспроводные наушники        90.8423  27617.876046  1.104715e+06    Yamaha  \n",
       "3     Центральный канал        90.8423  19780.910825  1.978091e+05       JBL  \n",
       "4        Система караоке        90.8423  28695.265724  1.721716e+05  Singtrix  "
      ]
     },
     "execution_count": 60,
     "metadata": {},
     "output_type": "execute_result"
    }
   ],
   "source": [
    "df_full.head()"
   ]
  },
  {
   "cell_type": "code",
   "execution_count": 61,
   "id": "130c5a1e",
   "metadata": {},
   "outputs": [
    {
     "data": {
      "text/plain": [
       "121"
      ]
     },
     "execution_count": 61,
     "metadata": {},
     "output_type": "execute_result"
    }
   ],
   "source": [
    "df_full.brand.nunique()"
   ]
  },
  {
   "cell_type": "markdown",
   "id": "cef85fc7",
   "metadata": {},
   "source": [
    "## Шаг 16"
   ]
  },
  {
   "cell_type": "markdown",
   "id": "046be4aa",
   "metadata": {},
   "source": [
    "Посчитайте, какую выручку принес каждый бренд и в скольких подтвержденных заказах были товары этого бренда. **Определите, какой бренд принес наибольшую выручку.** В ответ укажите его название.\n",
    "\n",
    "Дополнительно: проверьте, именно этот бренд встречается в большем количестве заказов, чем другие бренды? Или может его реже заказывают, но на более крупные суммы?"
   ]
  },
  {
   "cell_type": "code",
   "execution_count": 62,
   "id": "2b3ef2f1",
   "metadata": {},
   "outputs": [],
   "source": [
    "# Ваш код здесь\n",
    "df_top_revenue_brands = df_full[df_full.status == 'confirmed'].groupby('brand', as_index=False) \\\n",
    "        .agg({'revenue': 'sum',\n",
    "              'order_id': 'nunique'\n",
    "              }).rename(columns={'order_id': 'unique_orrders'}) \\\n",
    "        .sort_values('revenue', ascending=False)\n"
   ]
  },
  {
   "cell_type": "code",
   "execution_count": 63,
   "id": "3c009ad0",
   "metadata": {},
   "outputs": [
    {
     "data": {
      "text/html": [
       "<div>\n",
       "<style scoped>\n",
       "    .dataframe tbody tr th:only-of-type {\n",
       "        vertical-align: middle;\n",
       "    }\n",
       "\n",
       "    .dataframe tbody tr th {\n",
       "        vertical-align: top;\n",
       "    }\n",
       "\n",
       "    .dataframe thead th {\n",
       "        text-align: right;\n",
       "    }\n",
       "</style>\n",
       "<table border=\"1\" class=\"dataframe\">\n",
       "  <thead>\n",
       "    <tr style=\"text-align: right;\">\n",
       "      <th></th>\n",
       "      <th>brand</th>\n",
       "      <th>revenue</th>\n",
       "      <th>unique_orrders</th>\n",
       "    </tr>\n",
       "  </thead>\n",
       "  <tbody>\n",
       "    <tr>\n",
       "      <th>46</th>\n",
       "      <td>JBL</td>\n",
       "      <td>2.665961e+08</td>\n",
       "      <td>264</td>\n",
       "    </tr>\n",
       "    <tr>\n",
       "      <th>43</th>\n",
       "      <td>Heco</td>\n",
       "      <td>2.388163e+08</td>\n",
       "      <td>229</td>\n",
       "    </tr>\n",
       "    <tr>\n",
       "      <th>53</th>\n",
       "      <td>Klipsch</td>\n",
       "      <td>2.039024e+08</td>\n",
       "      <td>205</td>\n",
       "    </tr>\n",
       "    <tr>\n",
       "      <th>120</th>\n",
       "      <td>Yamaha</td>\n",
       "      <td>1.658651e+08</td>\n",
       "      <td>218</td>\n",
       "    </tr>\n",
       "    <tr>\n",
       "      <th>49</th>\n",
       "      <td>KEF</td>\n",
       "      <td>1.465101e+08</td>\n",
       "      <td>73</td>\n",
       "    </tr>\n",
       "    <tr>\n",
       "      <th>62</th>\n",
       "      <td>Magnat</td>\n",
       "      <td>1.141989e+08</td>\n",
       "      <td>154</td>\n",
       "    </tr>\n",
       "    <tr>\n",
       "      <th>118</th>\n",
       "      <td>Wharfedale</td>\n",
       "      <td>1.129230e+08</td>\n",
       "      <td>127</td>\n",
       "    </tr>\n",
       "    <tr>\n",
       "      <th>42</th>\n",
       "      <td>Harman Kardon</td>\n",
       "      <td>1.035031e+08</td>\n",
       "      <td>125</td>\n",
       "    </tr>\n",
       "    <tr>\n",
       "      <th>82</th>\n",
       "      <td>Q-Acoustics</td>\n",
       "      <td>1.021578e+08</td>\n",
       "      <td>117</td>\n",
       "    </tr>\n",
       "    <tr>\n",
       "      <th>26</th>\n",
       "      <td>Dali</td>\n",
       "      <td>8.353668e+07</td>\n",
       "      <td>52</td>\n",
       "    </tr>\n",
       "  </tbody>\n",
       "</table>\n",
       "</div>"
      ],
      "text/plain": [
       "             brand       revenue  unique_orrders\n",
       "46             JBL  2.665961e+08             264\n",
       "43            Heco  2.388163e+08             229\n",
       "53         Klipsch  2.039024e+08             205\n",
       "120         Yamaha  1.658651e+08             218\n",
       "49             KEF  1.465101e+08              73\n",
       "62          Magnat  1.141989e+08             154\n",
       "118     Wharfedale  1.129230e+08             127\n",
       "42   Harman Kardon  1.035031e+08             125\n",
       "82     Q-Acoustics  1.021578e+08             117\n",
       "26            Dali  8.353668e+07              52"
      ]
     },
     "execution_count": 63,
     "metadata": {},
     "output_type": "execute_result"
    }
   ],
   "source": [
    "df_top_revenue_brands.head(10)"
   ]
  },
  {
   "cell_type": "code",
   "execution_count": 64,
   "id": "44863047",
   "metadata": {},
   "outputs": [
    {
     "name": "stdout",
     "output_type": "stream",
     "text": [
      "JBL\n"
     ]
    }
   ],
   "source": [
    "top_brand_revenue = df_top_revenue_brands.brand.iloc[0]\n",
    "print(top_brand_revenue)"
   ]
  },
  {
   "cell_type": "markdown",
   "id": "9f681e81",
   "metadata": {},
   "source": [
    "Доп. вопрос: Бренд \"JBL\" занимает первое место по выручке за счет кол-ва заказов, а не из-за заказов на большие суммы "
   ]
  },
  {
   "cell_type": "markdown",
   "id": "a35ad70c",
   "metadata": {},
   "source": [
    "## Шаг 17"
   ]
  },
  {
   "cell_type": "markdown",
   "id": "e90dbcb3",
   "metadata": {},
   "source": [
    "У одних брендов большинство товаров востребовано клиентами, а у других — клиенты заказывают только небольшую часть товаров, а остальные зря занимают виртуальную «полку» в перечне товаров, продаваемых вашей компанией. **Вам нужно определить, какие бренды редко попадают в заказы, хотя товаров таких брендов на самом деле много.**\n",
    "\n",
    "Начнем с того, что определим, какие товары из имеющихся в продаже хоть раз заказывали, а какие — нет. Для этого соберите список из перечня уникальных идентификаторов товаров, которые встречаются в датафрейме `df_confirmed`. После этого для каждого товара в датафрейме `df_products` определите, был ли этот товар в списке заказанных товаров в этом месяце или нет: создайте новую колонку `is_in_orders` и заполните её соответственно значениями `yes` или `no` для каждого товара.\n",
    "\n",
    "**В ответе укажите, сколько товаров были заказаны, а сколько — не были**"
   ]
  },
  {
   "cell_type": "code",
   "execution_count": 65,
   "id": "b8309a13",
   "metadata": {},
   "outputs": [],
   "source": [
    "# Ваш код здесь\n",
    "product_in_orders = df_confirmed.product_id.to_list()\n",
    "\n"
   ]
  },
  {
   "cell_type": "code",
   "execution_count": 66,
   "id": "133d4fbf",
   "metadata": {},
   "outputs": [],
   "source": [
    "df_products['is_in_orders'] = df_products['id']. \\\n",
    "        apply(lambda x: 'yes' if x in product_in_orders else 'no')"
   ]
  },
  {
   "cell_type": "code",
   "execution_count": 67,
   "id": "d6247b8a",
   "metadata": {},
   "outputs": [
    {
     "name": "stdout",
     "output_type": "stream",
     "text": [
      "✅ Заказано: 1180 товаров\n",
      "❌ Не заказано: 497 товаров\n",
      "📊 Итого: 1677 товаров в каталоге\n"
     ]
    }
   ],
   "source": [
    "yes_count = (df_products['is_in_orders'] == 'yes').sum()\n",
    "no_count = (df_products['is_in_orders'] == 'no').sum()\n",
    "\n",
    "print(f\"✅ Заказано: {yes_count} товаров\")\n",
    "print(f\"❌ Не заказано: {no_count} товаров\")\n",
    "print(f\"📊 Итого: {yes_count + no_count} товаров в каталоге\")"
   ]
  },
  {
   "cell_type": "markdown",
   "id": "c925fe8f",
   "metadata": {},
   "source": [
    "## Шаг 18"
   ]
  },
  {
   "cell_type": "markdown",
   "id": "be38ebbb",
   "metadata": {},
   "source": [
    "Примерно треть товаров не была заказана ни разу в этом месяце. Посмотрим на эти данные в разрезе по брендам. **Определите, у каких брендов доля ни разу не заказанных товаров была больше половины от всех продаваемых товаров этого бренда.** Но не берите в расчет бренды, которые представлены маленьким числом товаров (меньше 15), они не захламляют виртуальную «полку».\n",
    "\n",
    "Отметьте бренды, у которых доля ни разу не заказанных товаров была больше половины от всех продаваемых товаров этого бренда: \n",
    "- AKG  \n",
    "- ASUS\t\n",
    "- Dali  \n",
    "- Emotiva  \n",
    "- KEF  \n",
    "- Marantz  \n",
    "- Onkyo  \n",
    "- Pioneer  \n",
    "- Yaqin"
   ]
  },
  {
   "cell_type": "code",
   "execution_count": 68,
   "id": "26ce510c",
   "metadata": {},
   "outputs": [],
   "source": [
    "# Ваш код здесь\n",
    "df_products['brand'] = df_products.name.apply(lambda x: x.split(',')[0])\n"
   ]
  },
  {
   "cell_type": "code",
   "execution_count": 69,
   "id": "a5a8d391",
   "metadata": {},
   "outputs": [],
   "source": [
    "brand_orders_analysis = df_products.groupby(['brand', 'is_in_orders'], as_index=False) \\\n",
    "        .agg({'id': 'nunique'}).rename(columns={'id': 'unique_products'})"
   ]
  },
  {
   "cell_type": "code",
   "execution_count": 70,
   "id": "74ff4cb0",
   "metadata": {},
   "outputs": [],
   "source": [
    "brand_orders_pivot = brand_orders_analysis \\\n",
    "    .pivot(columns='is_in_orders', index='brand', values='unique_products')"
   ]
  },
  {
   "cell_type": "code",
   "execution_count": 71,
   "id": "94771def",
   "metadata": {},
   "outputs": [],
   "source": [
    "brand_orders_pivot = brand_orders_pivot.fillna(0)\n",
    "brand_orders_pivot = brand_orders_pivot.reset_index()"
   ]
  },
  {
   "cell_type": "code",
   "execution_count": 72,
   "id": "b9327c9d",
   "metadata": {},
   "outputs": [],
   "source": [
    "brand_orders_pivot['total_products'] = brand_orders_pivot['no'] + brand_orders_pivot['yes']\n",
    "brand_orders_pivot['not_ordered_ratio'] = brand_orders_pivot['no'] / brand_orders_pivot['total_products']\n",
    "\n",
    "problem_brands = brand_orders_pivot.query('not_ordered_ratio > 0.5 & total_products > 15') \\\n",
    "        .sort_values('not_ordered_ratio', ascending=False) \\\n",
    "        .brand.to_list()"
   ]
  },
  {
   "cell_type": "code",
   "execution_count": 73,
   "id": "0a937e9d",
   "metadata": {},
   "outputs": [
    {
     "name": "stdout",
     "output_type": "stream",
     "text": [
      "Бренды, у которых доля ни разу не заказанных товаров \n",
      "была больше половины от всех продаваемых товаров \n",
      "этого бренда: Marantz Dali Pioneer KEF\n"
     ]
    }
   ],
   "source": [
    "print('''Бренды, у которых доля ни разу не заказанных товаров \n",
    "была больше половины от всех продаваемых товаров \n",
    "этого бренда:''', *problem_brands)"
   ]
  },
  {
   "cell_type": "markdown",
   "id": "150e361b",
   "metadata": {},
   "source": [
    "### Составим отчет по продажам менеджеров"
   ]
  },
  {
   "cell_type": "markdown",
   "id": "cd548028",
   "metadata": {},
   "source": [
    "## Шаг 19"
   ]
  },
  {
   "cell_type": "markdown",
   "id": "9d51abe6",
   "metadata": {},
   "source": [
    "Чтобы компания знала, кого из менеджеров отдела продаж премировать, а с кем провести беседу по итогам месяца, **вас попросили сделать отчет по сделкам каждого менеджера**: сколько он оформил подтвержденных заказов и какую выручку они принесли. Но в абсолютных числах вклад каждого сотрудника может быть непонятен. **Поэтому посчитайте значения в процентах: какой % выручки от общей выручки за месяц приходится на каждого менеджера, и какой % заказов от общего числа заказов.** Посчитайте данные и визуализируйте результат, чтобы принимать решение о поощрении или проведении беседы с менеджерами было удобнее. Выберите верные ответы:\n",
    "\n",
    "- лучшим менеджером по % выручки стала Маргарита Камертонова  \n",
    "- лучшим менеджером по % заказов стала Маргарита Камертонова  \n",
    "- первая пятерка менеджеров по % выручки сильно ушла вперед от всех остальных (явно виден большой разрыв между каждым из первой пятерки и каждым из всех остальных менеджеров)  \n",
    "- в этом месяце нельзя выделить явную пятерку лидеров по % выручки, которые сильно оторвались от остальных  \n",
    "- лидер по % заказов реализовал более 16% заказов  \n",
    "- лидер по % заказов реализовал менее 16% заказов  \n",
    "- наихудшие показатели у Сергея Контрабасова  \n",
    "- наихудшие показатели у Аркадия Октавина  \n",
    "- Антон Скрипкин принес в 3 раза меньше выручки, чем Виктор Тромбонов  \n",
    "- Антон Скрипкин реализовал почти в 3 раза меньше заказов, чем Анастасия Дудкина"
   ]
  },
  {
   "cell_type": "code",
   "execution_count": 74,
   "id": "f0f708b4",
   "metadata": {},
   "outputs": [
    {
     "data": {
      "text/html": [
       "<div>\n",
       "<style scoped>\n",
       "    .dataframe tbody tr th:only-of-type {\n",
       "        vertical-align: middle;\n",
       "    }\n",
       "\n",
       "    .dataframe tbody tr th {\n",
       "        vertical-align: top;\n",
       "    }\n",
       "\n",
       "    .dataframe thead th {\n",
       "        text-align: right;\n",
       "    }\n",
       "</style>\n",
       "<table border=\"1\" class=\"dataframe\">\n",
       "  <thead>\n",
       "    <tr style=\"text-align: right;\">\n",
       "      <th></th>\n",
       "      <th>order_id</th>\n",
       "      <th>product_id</th>\n",
       "      <th>quantity</th>\n",
       "      <th>manager</th>\n",
       "      <th>date</th>\n",
       "      <th>client_id</th>\n",
       "      <th>status</th>\n",
       "      <th>id</th>\n",
       "      <th>name</th>\n",
       "      <th>price</th>\n",
       "      <th>category</th>\n",
       "      <th>currency_rate</th>\n",
       "      <th>price_rub</th>\n",
       "      <th>revenue</th>\n",
       "    </tr>\n",
       "  </thead>\n",
       "  <tbody>\n",
       "    <tr>\n",
       "      <th>0</th>\n",
       "      <td>DUEU-27693834</td>\n",
       "      <td>933</td>\n",
       "      <td>7</td>\n",
       "      <td>Алексей Саксофонов</td>\n",
       "      <td>2024-03-01</td>\n",
       "      <td>14</td>\n",
       "      <td>confirmed</td>\n",
       "      <td>933</td>\n",
       "      <td>Magnat, MC 400</td>\n",
       "      <td>430.56</td>\n",
       "      <td>Система караоке</td>\n",
       "      <td>90.8423</td>\n",
       "      <td>39113.060688</td>\n",
       "      <td>2.737914e+05</td>\n",
       "    </tr>\n",
       "    <tr>\n",
       "      <th>1</th>\n",
       "      <td>DUEU-27693834</td>\n",
       "      <td>1645</td>\n",
       "      <td>36</td>\n",
       "      <td>Алексей Саксофонов</td>\n",
       "      <td>2024-03-01</td>\n",
       "      <td>14</td>\n",
       "      <td>confirmed</td>\n",
       "      <td>1645</td>\n",
       "      <td>Yamaha, HPH-50B</td>\n",
       "      <td>41.78</td>\n",
       "      <td>Проводные наушники</td>\n",
       "      <td>90.8423</td>\n",
       "      <td>3795.391294</td>\n",
       "      <td>1.366341e+05</td>\n",
       "    </tr>\n",
       "    <tr>\n",
       "      <th>2</th>\n",
       "      <td>DUEU-27693834</td>\n",
       "      <td>1596</td>\n",
       "      <td>40</td>\n",
       "      <td>Алексей Саксофонов</td>\n",
       "      <td>2024-03-01</td>\n",
       "      <td>14</td>\n",
       "      <td>confirmed</td>\n",
       "      <td>1596</td>\n",
       "      <td>Yamaha, YH-E700A</td>\n",
       "      <td>304.02</td>\n",
       "      <td>Беспроводные наушники</td>\n",
       "      <td>90.8423</td>\n",
       "      <td>27617.876046</td>\n",
       "      <td>1.104715e+06</td>\n",
       "    </tr>\n",
       "    <tr>\n",
       "      <th>3</th>\n",
       "      <td>DUEU-27693834</td>\n",
       "      <td>648</td>\n",
       "      <td>10</td>\n",
       "      <td>Алексей Саксофонов</td>\n",
       "      <td>2024-03-01</td>\n",
       "      <td>14</td>\n",
       "      <td>confirmed</td>\n",
       "      <td>648</td>\n",
       "      <td>JBL, Arena 125C</td>\n",
       "      <td>217.75</td>\n",
       "      <td>Центральный канал</td>\n",
       "      <td>90.8423</td>\n",
       "      <td>19780.910825</td>\n",
       "      <td>1.978091e+05</td>\n",
       "    </tr>\n",
       "    <tr>\n",
       "      <th>4</th>\n",
       "      <td>DUEU-27693834</td>\n",
       "      <td>1413</td>\n",
       "      <td>6</td>\n",
       "      <td>Алексей Саксофонов</td>\n",
       "      <td>2024-03-01</td>\n",
       "      <td>14</td>\n",
       "      <td>confirmed</td>\n",
       "      <td>1413</td>\n",
       "      <td>Singtrix, Home Karaoke System</td>\n",
       "      <td>315.88</td>\n",
       "      <td>Система караоке</td>\n",
       "      <td>90.8423</td>\n",
       "      <td>28695.265724</td>\n",
       "      <td>1.721716e+05</td>\n",
       "    </tr>\n",
       "  </tbody>\n",
       "</table>\n",
       "</div>"
      ],
      "text/plain": [
       "        order_id  product_id  quantity              manager       date  \\\n",
       "0  DUEU-27693834         933         7  Алексей Саксофонов 2024-03-01   \n",
       "1  DUEU-27693834        1645        36  Алексей Саксофонов 2024-03-01   \n",
       "2  DUEU-27693834        1596        40  Алексей Саксофонов 2024-03-01   \n",
       "3  DUEU-27693834         648        10  Алексей Саксофонов 2024-03-01   \n",
       "4  DUEU-27693834        1413         6  Алексей Саксофонов 2024-03-01   \n",
       "\n",
       "   client_id     status    id                           name   price  \\\n",
       "0         14  confirmed   933                 Magnat, MC 400  430.56   \n",
       "1         14  confirmed  1645                Yamaha, HPH-50B   41.78   \n",
       "2         14  confirmed  1596               Yamaha, YH-E700A  304.02   \n",
       "3         14  confirmed   648                JBL, Arena 125C  217.75   \n",
       "4         14  confirmed  1413  Singtrix, Home Karaoke System  315.88   \n",
       "\n",
       "                category  currency_rate     price_rub       revenue  \n",
       "0        Система караоке        90.8423  39113.060688  2.737914e+05  \n",
       "1     Проводные наушники        90.8423   3795.391294  1.366341e+05  \n",
       "2  Беспроводные наушники        90.8423  27617.876046  1.104715e+06  \n",
       "3     Центральный канал        90.8423  19780.910825  1.978091e+05  \n",
       "4        Система караоке        90.8423  28695.265724  1.721716e+05  "
      ]
     },
     "execution_count": 74,
     "metadata": {},
     "output_type": "execute_result"
    }
   ],
   "source": [
    "df_confirmed.head()"
   ]
  },
  {
   "cell_type": "code",
   "execution_count": 75,
   "id": "8ef11ef3",
   "metadata": {},
   "outputs": [],
   "source": [
    "manager_performance = df_confirmed.groupby('manager', as_index=False) \\\n",
    "    .agg(\n",
    "        sum_revenue=('revenue', 'sum'),\n",
    "        orders=('order_id', 'nunique')\n",
    "    ).sort_values('sum_revenue',ascending=False)\n"
   ]
  },
  {
   "cell_type": "code",
   "execution_count": 76,
   "id": "d99ff643",
   "metadata": {},
   "outputs": [
    {
     "data": {
      "text/html": [
       "<div>\n",
       "<style scoped>\n",
       "    .dataframe tbody tr th:only-of-type {\n",
       "        vertical-align: middle;\n",
       "    }\n",
       "\n",
       "    .dataframe tbody tr th {\n",
       "        vertical-align: top;\n",
       "    }\n",
       "\n",
       "    .dataframe thead th {\n",
       "        text-align: right;\n",
       "    }\n",
       "</style>\n",
       "<table border=\"1\" class=\"dataframe\">\n",
       "  <thead>\n",
       "    <tr style=\"text-align: right;\">\n",
       "      <th></th>\n",
       "      <th>manager</th>\n",
       "      <th>sum_revenue</th>\n",
       "      <th>orders</th>\n",
       "      <th>revenue_pct</th>\n",
       "      <th>orders_pct</th>\n",
       "    </tr>\n",
       "  </thead>\n",
       "  <tbody>\n",
       "    <tr>\n",
       "      <th>9</th>\n",
       "      <td>Маргарита Камертонова</td>\n",
       "      <td>3.473886e+08</td>\n",
       "      <td>48</td>\n",
       "      <td>17.04</td>\n",
       "      <td>15.53</td>\n",
       "    </tr>\n",
       "    <tr>\n",
       "      <th>4</th>\n",
       "      <td>Виктор Тромбонов</td>\n",
       "      <td>3.188999e+08</td>\n",
       "      <td>50</td>\n",
       "      <td>15.65</td>\n",
       "      <td>16.18</td>\n",
       "    </tr>\n",
       "    <tr>\n",
       "      <th>8</th>\n",
       "      <td>Максим Барабанов</td>\n",
       "      <td>2.401478e+08</td>\n",
       "      <td>40</td>\n",
       "      <td>11.78</td>\n",
       "      <td>12.94</td>\n",
       "    </tr>\n",
       "    <tr>\n",
       "      <th>5</th>\n",
       "      <td>Владимир Ударников</td>\n",
       "      <td>2.084865e+08</td>\n",
       "      <td>31</td>\n",
       "      <td>10.23</td>\n",
       "      <td>10.03</td>\n",
       "    </tr>\n",
       "    <tr>\n",
       "      <th>0</th>\n",
       "      <td>Алексей Саксофонов</td>\n",
       "      <td>1.953435e+08</td>\n",
       "      <td>27</td>\n",
       "      <td>9.58</td>\n",
       "      <td>8.74</td>\n",
       "    </tr>\n",
       "    <tr>\n",
       "      <th>7</th>\n",
       "      <td>Ксения Балалайкина</td>\n",
       "      <td>1.817621e+08</td>\n",
       "      <td>27</td>\n",
       "      <td>8.92</td>\n",
       "      <td>8.74</td>\n",
       "    </tr>\n",
       "    <tr>\n",
       "      <th>6</th>\n",
       "      <td>Екатерина Тарелкина</td>\n",
       "      <td>1.781576e+08</td>\n",
       "      <td>28</td>\n",
       "      <td>8.74</td>\n",
       "      <td>9.06</td>\n",
       "    </tr>\n",
       "    <tr>\n",
       "      <th>10</th>\n",
       "      <td>Надежда Гармошкина</td>\n",
       "      <td>1.347836e+08</td>\n",
       "      <td>21</td>\n",
       "      <td>6.61</td>\n",
       "      <td>6.80</td>\n",
       "    </tr>\n",
       "    <tr>\n",
       "      <th>1</th>\n",
       "      <td>Анастасия Дудкина</td>\n",
       "      <td>1.234504e+08</td>\n",
       "      <td>20</td>\n",
       "      <td>6.06</td>\n",
       "      <td>6.47</td>\n",
       "    </tr>\n",
       "    <tr>\n",
       "      <th>2</th>\n",
       "      <td>Антон Скрипкин</td>\n",
       "      <td>5.150268e+07</td>\n",
       "      <td>7</td>\n",
       "      <td>2.53</td>\n",
       "      <td>2.27</td>\n",
       "    </tr>\n",
       "    <tr>\n",
       "      <th>3</th>\n",
       "      <td>Аркадий Октавин</td>\n",
       "      <td>2.973678e+07</td>\n",
       "      <td>5</td>\n",
       "      <td>1.46</td>\n",
       "      <td>1.62</td>\n",
       "    </tr>\n",
       "    <tr>\n",
       "      <th>11</th>\n",
       "      <td>Сергей Контрабасов</td>\n",
       "      <td>2.857223e+07</td>\n",
       "      <td>5</td>\n",
       "      <td>1.40</td>\n",
       "      <td>1.62</td>\n",
       "    </tr>\n",
       "  </tbody>\n",
       "</table>\n",
       "</div>"
      ],
      "text/plain": [
       "                  manager   sum_revenue  orders  revenue_pct  orders_pct\n",
       "9   Маргарита Камертонова  3.473886e+08      48        17.04       15.53\n",
       "4        Виктор Тромбонов  3.188999e+08      50        15.65       16.18\n",
       "8        Максим Барабанов  2.401478e+08      40        11.78       12.94\n",
       "5      Владимир Ударников  2.084865e+08      31        10.23       10.03\n",
       "0     Алексей Саксофонов  1.953435e+08      27         9.58        8.74\n",
       "7     Ксения Балалайкина  1.817621e+08      27         8.92        8.74\n",
       "6     Екатерина Тарелкина  1.781576e+08      28         8.74        9.06\n",
       "10     Надежда Гармошкина  1.347836e+08      21         6.61        6.80\n",
       "1       Анастасия Дудкина  1.234504e+08      20         6.06        6.47\n",
       "2          Антон Скрипкин  5.150268e+07       7         2.53        2.27\n",
       "3        Аркадий Октавин  2.973678e+07       5         1.46        1.62\n",
       "11    Сергей Контрабасов  2.857223e+07       5         1.40        1.62"
      ]
     },
     "execution_count": 76,
     "metadata": {},
     "output_type": "execute_result"
    }
   ],
   "source": [
    "total_revenue = manager_performance['sum_revenue'].sum()\n",
    "total_orders = manager_performance['orders'].sum()\n",
    "\n",
    "manager_performance['revenue_pct'] = (manager_performance['sum_revenue'] / total_revenue * 100).round(2)\n",
    "manager_performance['orders_pct'] = (manager_performance['orders'] / total_orders * 100).round(2)\n",
    "\n",
    "manager_performance"
   ]
  },
  {
   "cell_type": "code",
   "execution_count": 77,
   "id": "63ec13a3",
   "metadata": {},
   "outputs": [
    {
     "data": {
      "image/png": "[encoded data removed]",
      "text/plain": [
       "<Figure size 1200x1000 with 2 Axes>"
      ]
     },
     "metadata": {},
     "output_type": "display_data"
    }
   ],
   "source": [
    "plt.figure(figsize=(12, 10))\n",
    "\n",
    "# Первый график - выручка\n",
    "plt.subplot(2, 1, 1)  # 2 строки, 1 колонка, первый график\n",
    "plt.bar(manager_performance['manager'], manager_performance['revenue_pct'], color='green')\n",
    "plt.title('Доля выручки по менеджерам')\n",
    "plt.ylabel('Выручка (%)')\n",
    "plt.xticks(rotation=45)\n",
    "# Второй график - заказы\n",
    "plt.subplot(2, 1, 2)  # 2 строки, 1 колонка, второй график\n",
    "plt.bar(manager_performance['manager'], manager_performance['orders_pct'], color='blue')\n",
    "plt.title('Доля заказов по менеджерам')\n",
    "plt.ylabel('Заказы (%)')\n",
    "plt.xticks(rotation=45)\n",
    "\n",
    "plt.tight_layout()\n",
    "plt.show()"
   ]
  },
  {
   "cell_type": "markdown",
   "id": "d79daa4c",
   "metadata": {},
   "source": [
    "### Выводы:\n",
    "\n",
    "    ✅ Лучшим менеджером по % выручки стала Маргарита Камертонова\n",
    "    ✅ В этом месяце нельзя выделить явную пятерку лидеров по % выручки, которые сильно оторвались от остальных\n",
    "    ✅ Лидер по % заказов реализовал более 16% заказов\n",
    "    ✅ Наихудшие показатели у Сергея Контрабасова\n",
    "    ✅ Антон Скрипкин реализовал почти в 3 раза меньше заказов, чем Анастасия Дудкина\n"
   ]
  }
 ],
 "metadata": {
  "kernelspec": {
   "display_name": "Python 3",
   "language": "python",
   "name": "python3"
  },
  "language_info": {
   "codemirror_mode": {
    "name": "ipython",
    "version": 3
   },
   "file_extension": ".py",
   "mimetype": "text/x-python",
   "name": "python",
   "nbconvert_exporter": "python",
   "pygments_lexer": "ipython3",
   "version": "3.12.4"
  }
 },
 "nbformat": 4,
 "nbformat_minor": 5
}
